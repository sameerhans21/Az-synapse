{
  "cells": [
    {
      "cell_type": "code",
      "execution_count": null,
      "metadata": {
        "jupyter": {
          "outputs_hidden": false,
          "source_hidden": false
        },
        "nteract": {
          "transient": {
            "deleting": false
          }
        }
      },
      "outputs": [],
      "source": []
    },
    {
      "cell_type": "markdown",
      "metadata": {},
      "source": [
        " ## Real-Time Latency Monitoring\n",
        "\n",
        "### Objective: Trigger alerts when latency exceeds a critical threshold. This will store high-latency events in Azure Synapse.<br>\n",
        "\n",
        "<br>Processing Steps:<br>\n",
        "\n",
        "If latency > 500ms, trigger an Azure Function to send an alert via email/SMS."
      ]
    },
    {
      "cell_type": "code",
      "execution_count": null,
      "metadata": {
        "jupyter": {
          "outputs_hidden": false,
          "source_hidden": false
        },
        "nteract": {
          "transient": {
            "deleting": false
          }
        }
      },
      "outputs": [],
      "source": [
        "SELECT type, tstamp, latency\n",
        "INTO [bubble-real]\n",
        "FROM [bubble-eventtest]\n",
        "WHERE latency > 500000.0;\n"
      ]
    },
    {
      "cell_type": "markdown",
      "metadata": {},
      "source": [
        "SlidingWindow(Second, 10) → Collects data continuously over the last 10 seconds.<br>\n",
        "Updates every second (so it is always monitoring in real time).<br>\n",
        "Uses TIMESTAMP BY tstamp to ensure correct event ordering.<br>"
      ]
    },
    {
      "cell_type": "code",
      "execution_count": null,
      "metadata": {
        "jupyter": {
          "outputs_hidden": false,
          "source_hidden": false
        },
        "nteract": {
          "transient": {
            "deleting": false
          }
        }
      },
      "outputs": [],
      "source": [
        "SELECT \n",
        "type, \n",
        "System.Timestamp AS event_time, \n",
        "AVG(latency) AS avg_latency\n",
        "INTO [bubble-real]\n",
        "FROM [bubble-eventtest] TIMESTAMP BY tstamp\n",
        "GROUP BY type, SlidingWindow(Second, 10);"
      ]
    },
    {
      "cell_type": "markdown",
      "metadata": {},
      "source": [
        "### Calculate Average Latency Per Event Type\n",
        "This will aggregate latency every 10 seconds.\n",
        "\n"
      ]
    },
    {
      "cell_type": "code",
      "execution_count": null,
      "metadata": {
        "jupyter": {
          "outputs_hidden": false,
          "source_hidden": false
        },
        "nteract": {
          "transient": {
            "deleting": false
          }
        }
      },
      "outputs": [],
      "source": [
        "SELECT type, AVG(latency) AS avg_latency\n",
        "INTO [bubble-real]\n",
        "FROM [bubble-eventtest] TIMESTAMP BY tstamp\n",
        "GROUP BY type, TumblingWindow(Second, 10);"
      ]
    },
    {
      "cell_type": "markdown",
      "metadata": {},
      "source": [
        "## Event Rate Monitoring (Throughput Analytics)\n",
        "### Objective: Monitor how frequently different types of events are generated.\n",
        "<br>Processing Steps:<br>\n",
        "\n",
        "Count the number of MAC, RLC, PDCP, GTP messages per minute.<br>\n",
        "Identify if there’s a spike or drop in event generation."
      ]
    },
    {
      "cell_type": "code",
      "execution_count": null,
      "metadata": {},
      "outputs": [],
      "source": [
        "SELECT type, COUNT(*) AS event_count\n",
        "INTO [bubble-real]\n",
        "FROM [bubble-eventtest] TIMESTAMP BY tstamp\n",
        "GROUP BY type, TumblingWindow(Second, 30);"
      ]
    },
    {
      "cell_type": "markdown",
      "metadata": {},
      "source": [
        "### Detect Packet Loss (Missing Events)\n",
        "\n",
        "This will detect if fewer than 10 events arrive in 10 seconds."
      ]
    },
    {
      "cell_type": "code",
      "execution_count": null,
      "metadata": {},
      "outputs": [],
      "source": [
        "WITH EventCounts AS (\n",
        "    SELECT type, COUNT(*) AS event_count\n",
        "    FROM [bubble-eventtest] TIMESTAMP BY tstamp\n",
        "    GROUP BY type, TumblingWindow(Second, 10)\n",
        ")\n",
        "SELECT type, event_count\n",
        "INTO [bubble-real]\n",
        "FROM EventCounts\n",
        "WHERE event_count < 10;"
      ]
    }
  ],
  "metadata": {
    "kernel_info": {
      "name": "synapse_pyspark"
    },
    "kernelspec": {
      "display_name": "Synapse PySpark",
      "language": "Python",
      "name": "synapse_pyspark"
    },
    "language_info": {
      "name": "python"
    },
    "save_output": true,
    "synapse_widget": {
      "state": {
        "770953b3-c35c-44f6-aedc-3f7bb7fbd8ff": {
          "persist_state": {
            "view": {
              "chartOptions": {
                "aggregationType": "count",
                "categoryFieldKeys": [
                  "0"
                ],
                "chartType": "bar",
                "isStacked": false,
                "seriesFieldKeys": [
                  "0"
                ]
              },
              "tableOptions": {},
              "type": "details"
            }
          },
          "sync_state": {
            "isSummary": false,
            "language": "scala",
            "table": {
              "rows": [
                {
                  "0": "1738422077014179",
                  "1": "2",
                  "2": "505",
                  "3": "1",
                  "4": "2",
                  "5": "1",
                  "6": "(null)",
                  "7": "327",
                  "8": "235",
                  "9": "119",
                  "10": "501",
                  "11": "1022",
                  "12": "717",
                  "13": "21",
                  "14": "984",
                  "15": "894",
                  "16": "475",
                  "17": "33",
                  "18": "842",
                  "19": "653",
                  "20": "582",
                  "21": "855",
                  "22": "173",
                  "23": "41",
                  "24": "500",
                  "25": "469",
                  "26": "947",
                  "27": "190",
                  "28": "818",
                  "29": "775",
                  "30": "672",
                  "31": "794",
                  "32": "131",
                  "33": "0.0",
                  "34": "0",
                  "35": "806",
                  "36": "259",
                  "37": "722",
                  "38": "122",
                  "39": "805",
                  "40": "2",
                  "41": "6"
                },
                {
                  "0": "1738422077014179",
                  "1": "2",
                  "2": "505",
                  "3": "1",
                  "4": "2",
                  "5": "1",
                  "6": "(null)",
                  "7": "925",
                  "8": "527",
                  "9": "356",
                  "10": "618",
                  "11": "548",
                  "12": "316",
                  "13": "488",
                  "14": "0",
                  "15": "349",
                  "16": "307",
                  "17": "653",
                  "18": "932",
                  "19": "138",
                  "20": "827",
                  "21": "973",
                  "22": "638",
                  "23": "272",
                  "24": "897",
                  "25": "828",
                  "26": "66",
                  "27": "648",
                  "28": "476",
                  "29": "860",
                  "30": "779",
                  "31": "259",
                  "32": "95",
                  "33": "0.0",
                  "34": "0",
                  "35": "478",
                  "36": "381",
                  "37": "901",
                  "38": "503",
                  "39": "739",
                  "40": "1",
                  "41": "6"
                },
                {
                  "0": "1738422077015177",
                  "1": "2",
                  "2": "505",
                  "3": "1",
                  "4": "2",
                  "5": "1",
                  "6": "(null)",
                  "7": "327",
                  "8": "235",
                  "9": "119",
                  "10": "501",
                  "11": "1022",
                  "12": "717",
                  "13": "21",
                  "14": "984",
                  "15": "894",
                  "16": "475",
                  "17": "33",
                  "18": "842",
                  "19": "653",
                  "20": "582",
                  "21": "855",
                  "22": "173",
                  "23": "41",
                  "24": "500",
                  "25": "469",
                  "26": "947",
                  "27": "190",
                  "28": "818",
                  "29": "775",
                  "30": "672",
                  "31": "794",
                  "32": "131",
                  "33": "0.0",
                  "34": "0",
                  "35": "806",
                  "36": "259",
                  "37": "722",
                  "38": "122",
                  "39": "805",
                  "40": "2",
                  "41": "6"
                },
                {
                  "0": "1738422077015177",
                  "1": "2",
                  "2": "505",
                  "3": "1",
                  "4": "2",
                  "5": "1",
                  "6": "(null)",
                  "7": "925",
                  "8": "527",
                  "9": "356",
                  "10": "618",
                  "11": "548",
                  "12": "316",
                  "13": "488",
                  "14": "0",
                  "15": "349",
                  "16": "307",
                  "17": "653",
                  "18": "932",
                  "19": "138",
                  "20": "827",
                  "21": "973",
                  "22": "638",
                  "23": "272",
                  "24": "897",
                  "25": "828",
                  "26": "66",
                  "27": "648",
                  "28": "476",
                  "29": "860",
                  "30": "779",
                  "31": "259",
                  "32": "95",
                  "33": "0.0",
                  "34": "0",
                  "35": "478",
                  "36": "381",
                  "37": "901",
                  "38": "503",
                  "39": "739",
                  "40": "1",
                  "41": "6"
                },
                {
                  "0": "1738422077016197",
                  "1": "2",
                  "2": "505",
                  "3": "1",
                  "4": "2",
                  "5": "1",
                  "6": "(null)",
                  "7": "327",
                  "8": "235",
                  "9": "119",
                  "10": "501",
                  "11": "1022",
                  "12": "717",
                  "13": "21",
                  "14": "984",
                  "15": "894",
                  "16": "475",
                  "17": "33",
                  "18": "842",
                  "19": "653",
                  "20": "582",
                  "21": "855",
                  "22": "173",
                  "23": "41",
                  "24": "500",
                  "25": "469",
                  "26": "947",
                  "27": "190",
                  "28": "818",
                  "29": "775",
                  "30": "672",
                  "31": "794",
                  "32": "131",
                  "33": "0.0",
                  "34": "0",
                  "35": "806",
                  "36": "259",
                  "37": "722",
                  "38": "122",
                  "39": "805",
                  "40": "2",
                  "41": "6"
                },
                {
                  "0": "1738422077016197",
                  "1": "2",
                  "2": "505",
                  "3": "1",
                  "4": "2",
                  "5": "1",
                  "6": "(null)",
                  "7": "925",
                  "8": "527",
                  "9": "356",
                  "10": "618",
                  "11": "548",
                  "12": "316",
                  "13": "488",
                  "14": "0",
                  "15": "349",
                  "16": "307",
                  "17": "653",
                  "18": "932",
                  "19": "138",
                  "20": "827",
                  "21": "973",
                  "22": "638",
                  "23": "272",
                  "24": "897",
                  "25": "828",
                  "26": "66",
                  "27": "648",
                  "28": "476",
                  "29": "860",
                  "30": "779",
                  "31": "259",
                  "32": "95",
                  "33": "0.0",
                  "34": "0",
                  "35": "478",
                  "36": "381",
                  "37": "901",
                  "38": "503",
                  "39": "739",
                  "40": "1",
                  "41": "6"
                },
                {
                  "0": "1738422077017186",
                  "1": "2",
                  "2": "505",
                  "3": "1",
                  "4": "2",
                  "5": "1",
                  "6": "(null)",
                  "7": "327",
                  "8": "235",
                  "9": "119",
                  "10": "501",
                  "11": "1022",
                  "12": "717",
                  "13": "21",
                  "14": "984",
                  "15": "894",
                  "16": "475",
                  "17": "33",
                  "18": "842",
                  "19": "653",
                  "20": "582",
                  "21": "855",
                  "22": "173",
                  "23": "41",
                  "24": "500",
                  "25": "469",
                  "26": "947",
                  "27": "190",
                  "28": "818",
                  "29": "775",
                  "30": "672",
                  "31": "794",
                  "32": "131",
                  "33": "0.0",
                  "34": "0",
                  "35": "806",
                  "36": "259",
                  "37": "722",
                  "38": "122",
                  "39": "805",
                  "40": "2",
                  "41": "6"
                },
                {
                  "0": "1738422077017186",
                  "1": "2",
                  "2": "505",
                  "3": "1",
                  "4": "2",
                  "5": "1",
                  "6": "(null)",
                  "7": "925",
                  "8": "527",
                  "9": "356",
                  "10": "618",
                  "11": "548",
                  "12": "316",
                  "13": "488",
                  "14": "0",
                  "15": "349",
                  "16": "307",
                  "17": "653",
                  "18": "932",
                  "19": "138",
                  "20": "827",
                  "21": "973",
                  "22": "638",
                  "23": "272",
                  "24": "897",
                  "25": "828",
                  "26": "66",
                  "27": "648",
                  "28": "476",
                  "29": "860",
                  "30": "779",
                  "31": "259",
                  "32": "95",
                  "33": "0.0",
                  "34": "0",
                  "35": "478",
                  "36": "381",
                  "37": "901",
                  "38": "503",
                  "39": "739",
                  "40": "1",
                  "41": "6"
                },
                {
                  "0": "1738422077018193",
                  "1": "2",
                  "2": "505",
                  "3": "1",
                  "4": "2",
                  "5": "1",
                  "6": "(null)",
                  "7": "327",
                  "8": "235",
                  "9": "119",
                  "10": "501",
                  "11": "1022",
                  "12": "717",
                  "13": "21",
                  "14": "984",
                  "15": "894",
                  "16": "475",
                  "17": "33",
                  "18": "842",
                  "19": "653",
                  "20": "582",
                  "21": "855",
                  "22": "173",
                  "23": "41",
                  "24": "500",
                  "25": "469",
                  "26": "947",
                  "27": "190",
                  "28": "818",
                  "29": "775",
                  "30": "672",
                  "31": "794",
                  "32": "131",
                  "33": "0.0",
                  "34": "0",
                  "35": "806",
                  "36": "259",
                  "37": "722",
                  "38": "122",
                  "39": "805",
                  "40": "2",
                  "41": "6"
                },
                {
                  "0": "1738422077018193",
                  "1": "2",
                  "2": "505",
                  "3": "1",
                  "4": "2",
                  "5": "1",
                  "6": "(null)",
                  "7": "925",
                  "8": "527",
                  "9": "356",
                  "10": "618",
                  "11": "548",
                  "12": "316",
                  "13": "488",
                  "14": "0",
                  "15": "349",
                  "16": "307",
                  "17": "653",
                  "18": "932",
                  "19": "138",
                  "20": "827",
                  "21": "973",
                  "22": "638",
                  "23": "272",
                  "24": "897",
                  "25": "828",
                  "26": "66",
                  "27": "648",
                  "28": "476",
                  "29": "860",
                  "30": "779",
                  "31": "259",
                  "32": "95",
                  "33": "0.0",
                  "34": "0",
                  "35": "478",
                  "36": "381",
                  "37": "901",
                  "38": "503",
                  "39": "739",
                  "40": "1",
                  "41": "6"
                }
              ],
              "schema": [
                {
                  "key": "0",
                  "name": "tstamp",
                  "type": "string"
                },
                {
                  "key": "1",
                  "name": "ngran_node",
                  "type": "string"
                },
                {
                  "key": "2",
                  "name": "mcc",
                  "type": "string"
                },
                {
                  "key": "3",
                  "name": "mnc",
                  "type": "string"
                },
                {
                  "key": "4",
                  "name": "mnc_digit_len",
                  "type": "string"
                },
                {
                  "key": "5",
                  "name": "nb_id",
                  "type": "string"
                },
                {
                  "key": "6",
                  "name": "cu_du_id",
                  "type": "string"
                },
                {
                  "key": "7",
                  "name": "txpdu_pkts",
                  "type": "string"
                },
                {
                  "key": "8",
                  "name": "txpdu_bytes",
                  "type": "string"
                },
                {
                  "key": "9",
                  "name": "txpdu_wt_ms",
                  "type": "string"
                },
                {
                  "key": "10",
                  "name": "txpdu_dd_pkts",
                  "type": "string"
                },
                {
                  "key": "11",
                  "name": "txpdu_dd_bytes",
                  "type": "string"
                },
                {
                  "key": "12",
                  "name": "txpdu_retx_pkts",
                  "type": "string"
                },
                {
                  "key": "13",
                  "name": "txpdu_retx_bytes",
                  "type": "string"
                },
                {
                  "key": "14",
                  "name": "txpdu_segmented",
                  "type": "string"
                },
                {
                  "key": "15",
                  "name": "txpdu_status_pkts",
                  "type": "string"
                },
                {
                  "key": "16",
                  "name": "txpdu_status_bytes",
                  "type": "string"
                },
                {
                  "key": "17",
                  "name": "txbuf_occ_bytes",
                  "type": "string"
                },
                {
                  "key": "18",
                  "name": "txbuf_occ_pkts",
                  "type": "string"
                },
                {
                  "key": "19",
                  "name": "rxpdu_pkts",
                  "type": "string"
                },
                {
                  "key": "20",
                  "name": "rxpdu_bytes",
                  "type": "string"
                },
                {
                  "key": "21",
                  "name": "rxpdu_dup_pkts",
                  "type": "string"
                },
                {
                  "key": "22",
                  "name": "rxpdu_dup_bytes",
                  "type": "string"
                },
                {
                  "key": "23",
                  "name": "rxpdu_dd_pkts",
                  "type": "string"
                },
                {
                  "key": "24",
                  "name": "rxpdu_dd_bytes",
                  "type": "string"
                },
                {
                  "key": "25",
                  "name": "rxpdu_ow_pkts",
                  "type": "string"
                },
                {
                  "key": "26",
                  "name": "rxpdu_ow_bytes",
                  "type": "string"
                },
                {
                  "key": "27",
                  "name": "rxpdu_status_pkts",
                  "type": "string"
                },
                {
                  "key": "28",
                  "name": "rxpdu_status_bytes",
                  "type": "string"
                },
                {
                  "key": "29",
                  "name": "rxbuf_occ_bytes",
                  "type": "string"
                },
                {
                  "key": "30",
                  "name": "rxbuf_occ_pkts",
                  "type": "string"
                },
                {
                  "key": "31",
                  "name": "txsdu_pkts",
                  "type": "string"
                },
                {
                  "key": "32",
                  "name": "txsdu_bytes",
                  "type": "string"
                },
                {
                  "key": "33",
                  "name": "txsdu_avg_time_to_tx",
                  "type": "string"
                },
                {
                  "key": "34",
                  "name": "txsdu_wt_us",
                  "type": "string"
                },
                {
                  "key": "35",
                  "name": "rxsdu_pkts",
                  "type": "string"
                },
                {
                  "key": "36",
                  "name": "rxsdu_bytes",
                  "type": "string"
                },
                {
                  "key": "37",
                  "name": "rxsdu_dd_pkts",
                  "type": "string"
                },
                {
                  "key": "38",
                  "name": "rxsdu_dd_bytes",
                  "type": "string"
                },
                {
                  "key": "39",
                  "name": "rnti",
                  "type": "string"
                },
                {
                  "key": "40",
                  "name": "mode",
                  "type": "string"
                },
                {
                  "key": "41",
                  "name": "rbid",
                  "type": "string"
                }
              ],
              "truncated": false
            },
            "wranglerEntryContext": {
              "dataframeType": "pyspark"
            }
          },
          "type": "Synapse.DataFrame"
        }
      },
      "version": "0.1"
    }
  },
  "nbformat": 4,
  "nbformat_minor": 2
}
