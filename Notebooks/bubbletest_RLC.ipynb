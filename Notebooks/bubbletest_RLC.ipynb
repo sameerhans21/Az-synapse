{
  "cells": [
    {
      "cell_type": "code",
      "source": [
        "%%pyspark\r\n",
        "df = spark.read.load('abfss://files@datalakefv41bzh.dfs.core.windows.net/data/RLC_bearer.csv', format='csv'\r\n",
        "## If header exists uncomment line below\r\n",
        ", header=True\r\n",
        ")\r\n",
        "display(df.limit(10))"
      ],
      "outputs": [
        {
          "output_type": "display_data",
          "data": {
            "application/vnd.livy.statement-meta+json": {
              "spark_pool": "sparkfv41bzh",
              "statement_id": 8,
              "statement_ids": [
                8
              ],
              "state": "finished",
              "livy_statement_state": "available",
              "spark_jobs": null,
              "session_id": "7",
              "normalized_state": "finished",
              "queued_time": "2025-02-02T12:00:00.4329196Z",
              "session_start_time": null,
              "execution_start_time": "2025-02-02T12:00:00.5578639Z",
              "execution_finish_time": "2025-02-02T12:00:02.4005162Z",
              "parent_msg_id": "76435d43-d8ee-4948-bc9d-d8e4281fd25f"
            },
            "text/plain": "StatementMeta(sparkfv41bzh, 7, 8, Finished, Available, Finished)"
          },
          "metadata": {}
        },
        {
          "output_type": "display_data",
          "data": {
            "application/vnd.synapse.widget-view+json": {
              "widget_id": "770953b3-c35c-44f6-aedc-3f7bb7fbd8ff",
              "widget_type": "Synapse.DataFrame"
            },
            "text/plain": "SynapseWidget(Synapse.DataFrame, 770953b3-c35c-44f6-aedc-3f7bb7fbd8ff)"
          },
          "metadata": {}
        }
      ],
      "execution_count": 12,
      "metadata": {
        "microsoft": {
          "language": "python"
        },
        "collapsed": false
      }
    },
    {
      "cell_type": "code",
      "source": [
        "df.count()"
      ],
      "outputs": [
        {
          "output_type": "display_data",
          "data": {
            "application/vnd.livy.statement-meta+json": {
              "spark_pool": "sparkfv41bzh",
              "statement_id": 9,
              "statement_ids": [
                9
              ],
              "state": "finished",
              "livy_statement_state": "available",
              "spark_jobs": null,
              "session_id": "7",
              "normalized_state": "finished",
              "queued_time": "2025-02-02T12:00:00.4937536Z",
              "session_start_time": null,
              "execution_start_time": "2025-02-02T12:00:02.5466481Z",
              "execution_finish_time": "2025-02-02T12:00:03.0709153Z",
              "parent_msg_id": "1c862051-fb4f-4616-a4ce-90cfe2916b22"
            },
            "text/plain": "StatementMeta(sparkfv41bzh, 7, 9, Finished, Available, Finished)"
          },
          "metadata": {}
        },
        {
          "output_type": "execute_result",
          "execution_count": 19,
          "data": {
            "text/plain": "8931"
          },
          "metadata": {}
        }
      ],
      "execution_count": 13,
      "metadata": {
        "jupyter": {
          "source_hidden": false,
          "outputs_hidden": false
        },
        "nteract": {
          "transient": {
            "deleting": false
          }
        }
      }
    },
    {
      "cell_type": "code",
      "source": [
        "df.printSchema()\r\n"
      ],
      "outputs": [
        {
          "output_type": "display_data",
          "data": {
            "application/vnd.livy.statement-meta+json": {
              "spark_pool": "sparkfv41bzh",
              "statement_id": 10,
              "statement_ids": [
                10
              ],
              "state": "finished",
              "livy_statement_state": "available",
              "spark_jobs": null,
              "session_id": "7",
              "normalized_state": "finished",
              "queued_time": "2025-02-02T12:00:00.5576101Z",
              "session_start_time": null,
              "execution_start_time": "2025-02-02T12:00:03.2038535Z",
              "execution_finish_time": "2025-02-02T12:00:03.3518128Z",
              "parent_msg_id": "aa4629e0-4582-4cf0-a026-78bf05485e69"
            },
            "text/plain": "StatementMeta(sparkfv41bzh, 7, 10, Finished, Available, Finished)"
          },
          "metadata": {}
        },
        {
          "output_type": "stream",
          "name": "stdout",
          "text": [
            "root\n |-- tstamp: string (nullable = true)\n |-- ngran_node: string (nullable = true)\n |-- mcc: string (nullable = true)\n |-- mnc: string (nullable = true)\n |-- mnc_digit_len: string (nullable = true)\n |-- nb_id: string (nullable = true)\n |-- cu_du_id: string (nullable = true)\n |-- txpdu_pkts: string (nullable = true)\n |-- txpdu_bytes: string (nullable = true)\n |-- txpdu_wt_ms: string (nullable = true)\n |-- txpdu_dd_pkts: string (nullable = true)\n |-- txpdu_dd_bytes: string (nullable = true)\n |-- txpdu_retx_pkts: string (nullable = true)\n |-- txpdu_retx_bytes: string (nullable = true)\n |-- txpdu_segmented: string (nullable = true)\n |-- txpdu_status_pkts: string (nullable = true)\n |-- txpdu_status_bytes: string (nullable = true)\n |-- txbuf_occ_bytes: string (nullable = true)\n |-- txbuf_occ_pkts: string (nullable = true)\n |-- rxpdu_pkts: string (nullable = true)\n |-- rxpdu_bytes: string (nullable = true)\n |-- rxpdu_dup_pkts: string (nullable = true)\n |-- rxpdu_dup_bytes: string (nullable = true)\n |-- rxpdu_dd_pkts: string (nullable = true)\n |-- rxpdu_dd_bytes: string (nullable = true)\n |-- rxpdu_ow_pkts: string (nullable = true)\n |-- rxpdu_ow_bytes: string (nullable = true)\n |-- rxpdu_status_pkts: string (nullable = true)\n |-- rxpdu_status_bytes: string (nullable = true)\n |-- rxbuf_occ_bytes: string (nullable = true)\n |-- rxbuf_occ_pkts: string (nullable = true)\n |-- txsdu_pkts: string (nullable = true)\n |-- txsdu_bytes: string (nullable = true)\n |-- txsdu_avg_time_to_tx: string (nullable = true)\n |-- txsdu_wt_us: string (nullable = true)\n |-- rxsdu_pkts: string (nullable = true)\n |-- rxsdu_bytes: string (nullable = true)\n |-- rxsdu_dd_pkts: string (nullable = true)\n |-- rxsdu_dd_bytes: string (nullable = true)\n |-- rnti: string (nullable = true)\n |-- mode: string (nullable = true)\n |-- rbid: string (nullable = true)\n\n"
          ]
        }
      ],
      "execution_count": 14,
      "metadata": {
        "jupyter": {
          "source_hidden": false,
          "outputs_hidden": false
        },
        "nteract": {
          "transient": {
            "deleting": false
          }
        }
      }
    },
    {
      "cell_type": "code",
      "source": [
        "# Packet Transmission Metrics\r\n",
        "# These columns measure how much data is transmitted and its associated issues.\r\n",
        "\r\n",
        "# txpdu_pkts → Number of transmitted PDUs (Packet Data Units).\r\n",
        "# txpdu_bytes → Total bytes transmitted.\r\n",
        "# txpdu_wt_ms → Transmission waiting time (in milliseconds).\r\n",
        "# txpdu_dd_pkts, txpdu_dd_bytes → Discarded Downlink PDUs (packets lost or discarded).\r\n",
        "# txpdu_retx_pkts, txpdu_retx_bytes → Retransmitted PDUs due to errors.\r\n",
        "# txpdu_segmented → Number of PDUs that were segmented (split into smaller packets).\r\n",
        "# txpdu_status_pkts, txpdu_status_bytes → Status reports sent for transmission PDUs (used in ARQ feedback)."
      ],
      "outputs": [
        {
          "output_type": "display_data",
          "data": {
            "application/vnd.livy.statement-meta+json": {
              "spark_pool": "sparkfv41bzh",
              "statement_id": 11,
              "statement_ids": [
                11
              ],
              "state": "finished",
              "livy_statement_state": "available",
              "spark_jobs": null,
              "session_id": "7",
              "normalized_state": "finished",
              "queued_time": "2025-02-02T12:00:00.9381124Z",
              "session_start_time": null,
              "execution_start_time": "2025-02-02T12:00:03.4710058Z",
              "execution_finish_time": "2025-02-02T12:00:03.615274Z",
              "parent_msg_id": "e9134c19-6f87-4774-9b5a-83e571c1a43d"
            },
            "text/plain": "StatementMeta(sparkfv41bzh, 7, 11, Finished, Available, Finished)"
          },
          "metadata": {}
        }
      ],
      "execution_count": 15,
      "metadata": {
        "jupyter": {
          "source_hidden": false,
          "outputs_hidden": false
        },
        "nteract": {
          "transient": {
            "deleting": false
          }
        }
      }
    },
    {
      "cell_type": "code",
      "source": [
        "from pyspark.sql.functions import col, sum, avg, when\r\n",
        "\r\n",
        "\r\n",
        "df_pack = df.withColumn(\"txpdu_pkts\", col(\"txpdu_pkts\").cast(\"int\")) \\\r\n",
        "       .withColumn(\"txpdu_bytes\", col(\"txpdu_bytes\").cast(\"int\")) \\\r\n",
        "       .withColumn(\"txpdu_retx_pkts\", col(\"txpdu_retx_pkts\").cast(\"int\")) \\\r\n",
        "       .withColumn(\"txpdu_dd_pkts\", col(\"txpdu_dd_pkts\").cast(\"int\"))\r\n",
        "\r\n",
        "# Aggregating transmission metrics\r\n",
        "df_pack.selectExpr(\r\n",
        "    \"SUM(txpdu_pkts) as total_tx_pkts\",\r\n",
        "    \"SUM(txpdu_bytes) as total_tx_bytes\",\r\n",
        "    \"SUM(txpdu_retx_pkts) as total_retransmissions\",\r\n",
        "    \"AVG(txpdu_retx_pkts / txpdu_pkts) as retransmission_rate\",\r\n",
        "    \"AVG(txpdu_dd_pkts / txpdu_pkts) as discarded_pkt_rate\"\r\n",
        ").show()\r\n"
      ],
      "outputs": [
        {
          "output_type": "display_data",
          "data": {
            "application/vnd.livy.statement-meta+json": {
              "spark_pool": "sparkfv41bzh",
              "statement_id": 12,
              "statement_ids": [
                12
              ],
              "state": "finished",
              "livy_statement_state": "available",
              "spark_jobs": null,
              "session_id": "7",
              "normalized_state": "finished",
              "queued_time": "2025-02-02T12:00:01.0827094Z",
              "session_start_time": null,
              "execution_start_time": "2025-02-02T12:00:03.7348943Z",
              "execution_finish_time": "2025-02-02T12:00:04.7905917Z",
              "parent_msg_id": "f403dd7e-cf2c-4990-8a39-c7eff2e23477"
            },
            "text/plain": "StatementMeta(sparkfv41bzh, 7, 12, Finished, Available, Finished)"
          },
          "metadata": {}
        },
        {
          "output_type": "stream",
          "name": "stdout",
          "text": [
            "+-------------+--------------+---------------------+-------------------+------------------+\n|total_tx_pkts|total_tx_bytes|total_retransmissions|retransmission_rate|discarded_pkt_rate|\n+-------------+--------------+---------------------+-------------------+------------------+\n|      5079248|       4843195|              5260726|  8.270201598530184| 4.253294704577163|\n+-------------+--------------+---------------------+-------------------+------------------+\n\n"
          ]
        }
      ],
      "execution_count": 16,
      "metadata": {
        "jupyter": {
          "source_hidden": false,
          "outputs_hidden": false
        },
        "nteract": {
          "transient": {
            "deleting": false
          }
        }
      }
    },
    {
      "cell_type": "code",
      "source": [
        "# Packet Reception Metrics\r\n",
        "# These columns measure how much data is received and its quality.\r\n",
        "\r\n",
        "# rxpdu_pkts → Number of received PDUs.\r\n",
        "# rxpdu_bytes → Total bytes received.\r\n",
        "# rxpdu_dup_pkts, rxpdu_dup_bytes → Duplicate PDUs received (could indicate network issues).\r\n",
        "# rxpdu_dd_pkts, rxpdu_dd_bytes → Discarded Downlink PDUs (packets lost after reception).\r\n",
        "# rxpdu_ow_pkts, rxpdu_ow_bytes → Out-of-window PDUs (packets arriving outside their expected order).\r\n",
        "# rxpdu_status_pkts, rxpdu_status_bytes → Status reports received for received PDUs."
      ],
      "outputs": [
        {
          "output_type": "display_data",
          "data": {
            "application/vnd.livy.statement-meta+json": {
              "spark_pool": "sparkfv41bzh",
              "statement_id": 13,
              "statement_ids": [
                13
              ],
              "state": "finished",
              "livy_statement_state": "available",
              "spark_jobs": null,
              "session_id": "7",
              "normalized_state": "finished",
              "queued_time": "2025-02-02T12:00:01.2557014Z",
              "session_start_time": null,
              "execution_start_time": "2025-02-02T12:00:04.9076703Z",
              "execution_finish_time": "2025-02-02T12:00:05.0543895Z",
              "parent_msg_id": "b6b645f1-6aee-4e3a-8d44-0a458426628c"
            },
            "text/plain": "StatementMeta(sparkfv41bzh, 7, 13, Finished, Available, Finished)"
          },
          "metadata": {}
        }
      ],
      "execution_count": 17,
      "metadata": {
        "jupyter": {
          "source_hidden": false,
          "outputs_hidden": false
        },
        "nteract": {
          "transient": {
            "deleting": false
          }
        }
      }
    },
    {
      "cell_type": "code",
      "source": [
        "# Buffer Occupancy Metrics (Queueing Delay & Congestion Indicators)\r\n",
        "# These columns help analyze network congestion and buffer utilization.\r\n",
        "\r\n",
        "# txbuf_occ_bytes, txbuf_occ_pkts → Transmission Buffer Occupancy (data waiting to be transmitted).\r\n",
        "# rxbuf_occ_bytes, rxbuf_occ_pkts → Reception Buffer Occupancy (data waiting to be processed)."
      ],
      "outputs": [
        {
          "output_type": "display_data",
          "data": {
            "application/vnd.livy.statement-meta+json": {
              "spark_pool": "sparkfv41bzh",
              "statement_id": 14,
              "statement_ids": [
                14
              ],
              "state": "finished",
              "livy_statement_state": "available",
              "spark_jobs": null,
              "session_id": "7",
              "normalized_state": "finished",
              "queued_time": "2025-02-02T12:00:01.4874078Z",
              "session_start_time": null,
              "execution_start_time": "2025-02-02T12:00:05.1731711Z",
              "execution_finish_time": "2025-02-02T12:00:05.3607895Z",
              "parent_msg_id": "69baa5ed-9f69-4d30-9850-a719904d7106"
            },
            "text/plain": "StatementMeta(sparkfv41bzh, 7, 14, Finished, Available, Finished)"
          },
          "metadata": {}
        }
      ],
      "execution_count": 18,
      "metadata": {
        "jupyter": {
          "source_hidden": false,
          "outputs_hidden": false
        },
        "nteract": {
          "transient": {
            "deleting": false
          }
        }
      }
    },
    {
      "cell_type": "code",
      "source": [
        "# Average transmission and reception BUFFER occupancy\r\n",
        "\r\n",
        "dfbuff = df.withColumn(\"txbuf_occ_bytes\", col(\"txbuf_occ_bytes\").cast(\"int\")) \\\r\n",
        "       .withColumn(\"txpdu_retx_pkts\", col(\"txpdu_retx_pkts\").cast(\"int\")) \\\r\n",
        "       .withColumn(\"rxbuf_occ_bytes\", col(\"rxbuf_occ_bytes\").cast(\"int\"))\r\n",
        "\r\n",
        "\r\n",
        "dfbuff.selectExpr(\r\n",
        "    \"AVG(txbuf_occ_bytes) as avg_tx_buffer_bytes\",\r\n",
        "    \"AVG(rxbuf_occ_bytes) as avg_rx_buffer_bytes\"\r\n",
        ").show()\r\n",
        "\r\n",
        "# Correlation between buffer occupancy and retransmissions\r\n",
        "corr_txbuf_retx = dfbuff.stat.corr(\"txbuf_occ_bytes\", \"txpdu_retx_pkts\")\r\n",
        "corr_rxbuf_retx = dfbuff.stat.corr(\"rxbuf_occ_bytes\", \"txpdu_retx_pkts\")\r\n",
        "\r\n",
        "print(f\"Correlation between TX buffer occupancy and retransmissions: {corr_txbuf_retx}\")\r\n",
        "print(f\"Correlation between RX buffer occupancy and retransmissions: {corr_rxbuf_retx}\")\r\n"
      ],
      "outputs": [
        {
          "output_type": "display_data",
          "data": {
            "application/vnd.livy.statement-meta+json": {
              "spark_pool": "sparkfv41bzh",
              "statement_id": 17,
              "statement_ids": [
                17
              ],
              "state": "finished",
              "livy_statement_state": "available",
              "spark_jobs": null,
              "session_id": "7",
              "normalized_state": "finished",
              "queued_time": "2025-02-02T12:04:18.3876976Z",
              "session_start_time": null,
              "execution_start_time": "2025-02-02T12:04:18.5154287Z",
              "execution_finish_time": "2025-02-02T12:04:20.7798584Z",
              "parent_msg_id": "582ee9ab-e07b-4d78-b0e5-94cbb9f158ac"
            },
            "text/plain": "StatementMeta(sparkfv41bzh, 7, 17, Finished, Available, Finished)"
          },
          "metadata": {}
        },
        {
          "output_type": "stream",
          "name": "stdout",
          "text": [
            "+-------------------+-------------------+\n|avg_tx_buffer_bytes|avg_rx_buffer_bytes|\n+-------------------+-------------------+\n|  474.9706639793976|  547.6097861381704|\n+-------------------+-------------------+\n\nCorrelation between TX buffer occupancy and retransmissions: 0.0401767088239992\nCorrelation between RX buffer occupancy and retransmissions: -0.2098824579205666\n"
          ]
        }
      ],
      "execution_count": 21,
      "metadata": {
        "jupyter": {
          "source_hidden": false,
          "outputs_hidden": false
        },
        "nteract": {
          "transient": {
            "deleting": false
          }
        }
      }
    },
    {
      "cell_type": "code",
      "source": [],
      "outputs": [],
      "execution_count": null,
      "metadata": {
        "jupyter": {
          "source_hidden": false,
          "outputs_hidden": false
        },
        "nteract": {
          "transient": {
            "deleting": false
          }
        }
      }
    },
    {
      "cell_type": "code",
      "source": [
        "# SDU-Level Statistics (Higher-Layer Packets)\r\n",
        "# These columns relate to SDUs (Service Data Units), which are higher-level packets before they are segmented into PDUs.\r\n",
        "\r\n",
        "# txsdu_pkts, txsdu_bytes → Number of transmitted SDUs and their size.\r\n",
        "# txsdu_avg_time_to_tx → Average time taken to transmit an SDU (in ms).\r\n",
        "# txsdu_wt_us → Waiting time for SDUs before transmission (in µs).\r\n",
        "# rxsdu_pkts, rxsdu_bytes → Number of received SDUs and their size.\r\n",
        "# rxsdu_dd_pkts, rxsdu_dd_bytes → Discarded SDUs (dropped due to errors or congestion).\r\n"
      ],
      "outputs": [
        {
          "output_type": "display_data",
          "data": {
            "application/vnd.livy.statement-meta+json": {
              "spark_pool": "sparkfv41bzh",
              "statement_id": 15,
              "statement_ids": [
                15
              ],
              "state": "finished",
              "livy_statement_state": "available",
              "spark_jobs": null,
              "session_id": "7",
              "normalized_state": "finished",
              "queued_time": "2025-02-02T12:00:01.5325018Z",
              "session_start_time": null,
              "execution_start_time": "2025-02-02T12:00:05.4847888Z",
              "execution_finish_time": "2025-02-02T12:00:05.6315837Z",
              "parent_msg_id": "84b8c389-bc56-417e-bac1-47fbfdacdb84"
            },
            "text/plain": "StatementMeta(sparkfv41bzh, 7, 15, Finished, Available, Finished)"
          },
          "metadata": {}
        }
      ],
      "execution_count": 19,
      "metadata": {
        "jupyter": {
          "source_hidden": false,
          "outputs_hidden": false
        },
        "nteract": {
          "transient": {
            "deleting": false
          }
        }
      }
    },
    {
      "cell_type": "code",
      "source": [],
      "outputs": [],
      "execution_count": null,
      "metadata": {
        "jupyter": {
          "source_hidden": false,
          "outputs_hidden": false
        },
        "nteract": {
          "transient": {
            "deleting": false
          }
        }
      }
    },
    {
      "cell_type": "code",
      "source": [],
      "outputs": [],
      "execution_count": null,
      "metadata": {
        "jupyter": {
          "source_hidden": false,
          "outputs_hidden": false
        },
        "nteract": {
          "transient": {
            "deleting": false
          }
        }
      }
    },
    {
      "cell_type": "code",
      "source": [],
      "outputs": [],
      "execution_count": null,
      "metadata": {
        "jupyter": {
          "source_hidden": false,
          "outputs_hidden": false
        },
        "nteract": {
          "transient": {
            "deleting": false
          }
        }
      }
    },
    {
      "cell_type": "code",
      "source": [],
      "outputs": [],
      "execution_count": null,
      "metadata": {
        "jupyter": {
          "source_hidden": false,
          "outputs_hidden": false
        },
        "nteract": {
          "transient": {
            "deleting": false
          }
        }
      }
    }
  ],
  "metadata": {
    "language_info": {
      "name": "python"
    },
    "kernelspec": {
      "name": "synapse_pyspark",
      "language": "Python",
      "display_name": "Synapse PySpark"
    },
    "kernel_info": {
      "name": "synapse_pyspark"
    },
    "save_output": true,
    "synapse_widget": {
      "version": "0.1",
      "state": {
        "770953b3-c35c-44f6-aedc-3f7bb7fbd8ff": {
          "type": "Synapse.DataFrame",
          "sync_state": {
            "table": {
              "rows": [
                {
                  "0": "1738422077014179",
                  "1": "2",
                  "2": "505",
                  "3": "1",
                  "4": "2",
                  "5": "1",
                  "6": "(null)",
                  "7": "327",
                  "8": "235",
                  "9": "119",
                  "10": "501",
                  "11": "1022",
                  "12": "717",
                  "13": "21",
                  "14": "984",
                  "15": "894",
                  "16": "475",
                  "17": "33",
                  "18": "842",
                  "19": "653",
                  "20": "582",
                  "21": "855",
                  "22": "173",
                  "23": "41",
                  "24": "500",
                  "25": "469",
                  "26": "947",
                  "27": "190",
                  "28": "818",
                  "29": "775",
                  "30": "672",
                  "31": "794",
                  "32": "131",
                  "33": "0.0",
                  "34": "0",
                  "35": "806",
                  "36": "259",
                  "37": "722",
                  "38": "122",
                  "39": "805",
                  "40": "2",
                  "41": "6"
                },
                {
                  "0": "1738422077014179",
                  "1": "2",
                  "2": "505",
                  "3": "1",
                  "4": "2",
                  "5": "1",
                  "6": "(null)",
                  "7": "925",
                  "8": "527",
                  "9": "356",
                  "10": "618",
                  "11": "548",
                  "12": "316",
                  "13": "488",
                  "14": "0",
                  "15": "349",
                  "16": "307",
                  "17": "653",
                  "18": "932",
                  "19": "138",
                  "20": "827",
                  "21": "973",
                  "22": "638",
                  "23": "272",
                  "24": "897",
                  "25": "828",
                  "26": "66",
                  "27": "648",
                  "28": "476",
                  "29": "860",
                  "30": "779",
                  "31": "259",
                  "32": "95",
                  "33": "0.0",
                  "34": "0",
                  "35": "478",
                  "36": "381",
                  "37": "901",
                  "38": "503",
                  "39": "739",
                  "40": "1",
                  "41": "6"
                },
                {
                  "0": "1738422077015177",
                  "1": "2",
                  "2": "505",
                  "3": "1",
                  "4": "2",
                  "5": "1",
                  "6": "(null)",
                  "7": "327",
                  "8": "235",
                  "9": "119",
                  "10": "501",
                  "11": "1022",
                  "12": "717",
                  "13": "21",
                  "14": "984",
                  "15": "894",
                  "16": "475",
                  "17": "33",
                  "18": "842",
                  "19": "653",
                  "20": "582",
                  "21": "855",
                  "22": "173",
                  "23": "41",
                  "24": "500",
                  "25": "469",
                  "26": "947",
                  "27": "190",
                  "28": "818",
                  "29": "775",
                  "30": "672",
                  "31": "794",
                  "32": "131",
                  "33": "0.0",
                  "34": "0",
                  "35": "806",
                  "36": "259",
                  "37": "722",
                  "38": "122",
                  "39": "805",
                  "40": "2",
                  "41": "6"
                },
                {
                  "0": "1738422077015177",
                  "1": "2",
                  "2": "505",
                  "3": "1",
                  "4": "2",
                  "5": "1",
                  "6": "(null)",
                  "7": "925",
                  "8": "527",
                  "9": "356",
                  "10": "618",
                  "11": "548",
                  "12": "316",
                  "13": "488",
                  "14": "0",
                  "15": "349",
                  "16": "307",
                  "17": "653",
                  "18": "932",
                  "19": "138",
                  "20": "827",
                  "21": "973",
                  "22": "638",
                  "23": "272",
                  "24": "897",
                  "25": "828",
                  "26": "66",
                  "27": "648",
                  "28": "476",
                  "29": "860",
                  "30": "779",
                  "31": "259",
                  "32": "95",
                  "33": "0.0",
                  "34": "0",
                  "35": "478",
                  "36": "381",
                  "37": "901",
                  "38": "503",
                  "39": "739",
                  "40": "1",
                  "41": "6"
                },
                {
                  "0": "1738422077016197",
                  "1": "2",
                  "2": "505",
                  "3": "1",
                  "4": "2",
                  "5": "1",
                  "6": "(null)",
                  "7": "327",
                  "8": "235",
                  "9": "119",
                  "10": "501",
                  "11": "1022",
                  "12": "717",
                  "13": "21",
                  "14": "984",
                  "15": "894",
                  "16": "475",
                  "17": "33",
                  "18": "842",
                  "19": "653",
                  "20": "582",
                  "21": "855",
                  "22": "173",
                  "23": "41",
                  "24": "500",
                  "25": "469",
                  "26": "947",
                  "27": "190",
                  "28": "818",
                  "29": "775",
                  "30": "672",
                  "31": "794",
                  "32": "131",
                  "33": "0.0",
                  "34": "0",
                  "35": "806",
                  "36": "259",
                  "37": "722",
                  "38": "122",
                  "39": "805",
                  "40": "2",
                  "41": "6"
                },
                {
                  "0": "1738422077016197",
                  "1": "2",
                  "2": "505",
                  "3": "1",
                  "4": "2",
                  "5": "1",
                  "6": "(null)",
                  "7": "925",
                  "8": "527",
                  "9": "356",
                  "10": "618",
                  "11": "548",
                  "12": "316",
                  "13": "488",
                  "14": "0",
                  "15": "349",
                  "16": "307",
                  "17": "653",
                  "18": "932",
                  "19": "138",
                  "20": "827",
                  "21": "973",
                  "22": "638",
                  "23": "272",
                  "24": "897",
                  "25": "828",
                  "26": "66",
                  "27": "648",
                  "28": "476",
                  "29": "860",
                  "30": "779",
                  "31": "259",
                  "32": "95",
                  "33": "0.0",
                  "34": "0",
                  "35": "478",
                  "36": "381",
                  "37": "901",
                  "38": "503",
                  "39": "739",
                  "40": "1",
                  "41": "6"
                },
                {
                  "0": "1738422077017186",
                  "1": "2",
                  "2": "505",
                  "3": "1",
                  "4": "2",
                  "5": "1",
                  "6": "(null)",
                  "7": "327",
                  "8": "235",
                  "9": "119",
                  "10": "501",
                  "11": "1022",
                  "12": "717",
                  "13": "21",
                  "14": "984",
                  "15": "894",
                  "16": "475",
                  "17": "33",
                  "18": "842",
                  "19": "653",
                  "20": "582",
                  "21": "855",
                  "22": "173",
                  "23": "41",
                  "24": "500",
                  "25": "469",
                  "26": "947",
                  "27": "190",
                  "28": "818",
                  "29": "775",
                  "30": "672",
                  "31": "794",
                  "32": "131",
                  "33": "0.0",
                  "34": "0",
                  "35": "806",
                  "36": "259",
                  "37": "722",
                  "38": "122",
                  "39": "805",
                  "40": "2",
                  "41": "6"
                },
                {
                  "0": "1738422077017186",
                  "1": "2",
                  "2": "505",
                  "3": "1",
                  "4": "2",
                  "5": "1",
                  "6": "(null)",
                  "7": "925",
                  "8": "527",
                  "9": "356",
                  "10": "618",
                  "11": "548",
                  "12": "316",
                  "13": "488",
                  "14": "0",
                  "15": "349",
                  "16": "307",
                  "17": "653",
                  "18": "932",
                  "19": "138",
                  "20": "827",
                  "21": "973",
                  "22": "638",
                  "23": "272",
                  "24": "897",
                  "25": "828",
                  "26": "66",
                  "27": "648",
                  "28": "476",
                  "29": "860",
                  "30": "779",
                  "31": "259",
                  "32": "95",
                  "33": "0.0",
                  "34": "0",
                  "35": "478",
                  "36": "381",
                  "37": "901",
                  "38": "503",
                  "39": "739",
                  "40": "1",
                  "41": "6"
                },
                {
                  "0": "1738422077018193",
                  "1": "2",
                  "2": "505",
                  "3": "1",
                  "4": "2",
                  "5": "1",
                  "6": "(null)",
                  "7": "327",
                  "8": "235",
                  "9": "119",
                  "10": "501",
                  "11": "1022",
                  "12": "717",
                  "13": "21",
                  "14": "984",
                  "15": "894",
                  "16": "475",
                  "17": "33",
                  "18": "842",
                  "19": "653",
                  "20": "582",
                  "21": "855",
                  "22": "173",
                  "23": "41",
                  "24": "500",
                  "25": "469",
                  "26": "947",
                  "27": "190",
                  "28": "818",
                  "29": "775",
                  "30": "672",
                  "31": "794",
                  "32": "131",
                  "33": "0.0",
                  "34": "0",
                  "35": "806",
                  "36": "259",
                  "37": "722",
                  "38": "122",
                  "39": "805",
                  "40": "2",
                  "41": "6"
                },
                {
                  "0": "1738422077018193",
                  "1": "2",
                  "2": "505",
                  "3": "1",
                  "4": "2",
                  "5": "1",
                  "6": "(null)",
                  "7": "925",
                  "8": "527",
                  "9": "356",
                  "10": "618",
                  "11": "548",
                  "12": "316",
                  "13": "488",
                  "14": "0",
                  "15": "349",
                  "16": "307",
                  "17": "653",
                  "18": "932",
                  "19": "138",
                  "20": "827",
                  "21": "973",
                  "22": "638",
                  "23": "272",
                  "24": "897",
                  "25": "828",
                  "26": "66",
                  "27": "648",
                  "28": "476",
                  "29": "860",
                  "30": "779",
                  "31": "259",
                  "32": "95",
                  "33": "0.0",
                  "34": "0",
                  "35": "478",
                  "36": "381",
                  "37": "901",
                  "38": "503",
                  "39": "739",
                  "40": "1",
                  "41": "6"
                }
              ],
              "schema": [
                {
                  "key": "0",
                  "name": "tstamp",
                  "type": "string"
                },
                {
                  "key": "1",
                  "name": "ngran_node",
                  "type": "string"
                },
                {
                  "key": "2",
                  "name": "mcc",
                  "type": "string"
                },
                {
                  "key": "3",
                  "name": "mnc",
                  "type": "string"
                },
                {
                  "key": "4",
                  "name": "mnc_digit_len",
                  "type": "string"
                },
                {
                  "key": "5",
                  "name": "nb_id",
                  "type": "string"
                },
                {
                  "key": "6",
                  "name": "cu_du_id",
                  "type": "string"
                },
                {
                  "key": "7",
                  "name": "txpdu_pkts",
                  "type": "string"
                },
                {
                  "key": "8",
                  "name": "txpdu_bytes",
                  "type": "string"
                },
                {
                  "key": "9",
                  "name": "txpdu_wt_ms",
                  "type": "string"
                },
                {
                  "key": "10",
                  "name": "txpdu_dd_pkts",
                  "type": "string"
                },
                {
                  "key": "11",
                  "name": "txpdu_dd_bytes",
                  "type": "string"
                },
                {
                  "key": "12",
                  "name": "txpdu_retx_pkts",
                  "type": "string"
                },
                {
                  "key": "13",
                  "name": "txpdu_retx_bytes",
                  "type": "string"
                },
                {
                  "key": "14",
                  "name": "txpdu_segmented",
                  "type": "string"
                },
                {
                  "key": "15",
                  "name": "txpdu_status_pkts",
                  "type": "string"
                },
                {
                  "key": "16",
                  "name": "txpdu_status_bytes",
                  "type": "string"
                },
                {
                  "key": "17",
                  "name": "txbuf_occ_bytes",
                  "type": "string"
                },
                {
                  "key": "18",
                  "name": "txbuf_occ_pkts",
                  "type": "string"
                },
                {
                  "key": "19",
                  "name": "rxpdu_pkts",
                  "type": "string"
                },
                {
                  "key": "20",
                  "name": "rxpdu_bytes",
                  "type": "string"
                },
                {
                  "key": "21",
                  "name": "rxpdu_dup_pkts",
                  "type": "string"
                },
                {
                  "key": "22",
                  "name": "rxpdu_dup_bytes",
                  "type": "string"
                },
                {
                  "key": "23",
                  "name": "rxpdu_dd_pkts",
                  "type": "string"
                },
                {
                  "key": "24",
                  "name": "rxpdu_dd_bytes",
                  "type": "string"
                },
                {
                  "key": "25",
                  "name": "rxpdu_ow_pkts",
                  "type": "string"
                },
                {
                  "key": "26",
                  "name": "rxpdu_ow_bytes",
                  "type": "string"
                },
                {
                  "key": "27",
                  "name": "rxpdu_status_pkts",
                  "type": "string"
                },
                {
                  "key": "28",
                  "name": "rxpdu_status_bytes",
                  "type": "string"
                },
                {
                  "key": "29",
                  "name": "rxbuf_occ_bytes",
                  "type": "string"
                },
                {
                  "key": "30",
                  "name": "rxbuf_occ_pkts",
                  "type": "string"
                },
                {
                  "key": "31",
                  "name": "txsdu_pkts",
                  "type": "string"
                },
                {
                  "key": "32",
                  "name": "txsdu_bytes",
                  "type": "string"
                },
                {
                  "key": "33",
                  "name": "txsdu_avg_time_to_tx",
                  "type": "string"
                },
                {
                  "key": "34",
                  "name": "txsdu_wt_us",
                  "type": "string"
                },
                {
                  "key": "35",
                  "name": "rxsdu_pkts",
                  "type": "string"
                },
                {
                  "key": "36",
                  "name": "rxsdu_bytes",
                  "type": "string"
                },
                {
                  "key": "37",
                  "name": "rxsdu_dd_pkts",
                  "type": "string"
                },
                {
                  "key": "38",
                  "name": "rxsdu_dd_bytes",
                  "type": "string"
                },
                {
                  "key": "39",
                  "name": "rnti",
                  "type": "string"
                },
                {
                  "key": "40",
                  "name": "mode",
                  "type": "string"
                },
                {
                  "key": "41",
                  "name": "rbid",
                  "type": "string"
                }
              ],
              "truncated": false
            },
            "isSummary": false,
            "language": "scala",
            "wranglerEntryContext": {
              "dataframeType": "pyspark"
            }
          },
          "persist_state": {
            "view": {
              "type": "details",
              "tableOptions": {},
              "chartOptions": {
                "chartType": "bar",
                "aggregationType": "count",
                "categoryFieldKeys": [
                  "0"
                ],
                "seriesFieldKeys": [
                  "0"
                ],
                "isStacked": false
              }
            }
          }
        }
      }
    }
  },
  "nbformat": 4,
  "nbformat_minor": 2
}