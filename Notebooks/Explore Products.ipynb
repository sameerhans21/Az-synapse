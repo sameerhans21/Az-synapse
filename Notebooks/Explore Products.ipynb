{
  "cells": [
    {
      "cell_type": "code",
      "source": [
        "%%pyspark\r\n",
        "df = spark.read.load('abfss://files@datalake0ghz8yx.dfs.core.windows.net/product_data/products.csv', format='csv'\r\n",
        "## If header exists uncomment line below\r\n",
        ", header=True\r\n",
        ")\r\n",
        "display(df.limit(10))"
      ],
      "outputs": [
        {
          "output_type": "display_data",
          "data": {
            "application/vnd.livy.statement-meta+json": {
              "spark_pool": "spark0ghz8yx",
              "statement_id": 3,
              "statement_ids": [
                3
              ],
              "state": "finished",
              "livy_statement_state": "available",
              "spark_jobs": null,
              "session_id": "0",
              "normalized_state": "finished",
              "queued_time": "2025-01-19T14:01:52.6749694Z",
              "session_start_time": null,
              "execution_start_time": "2025-01-19T14:01:52.830334Z",
              "execution_finish_time": "2025-01-19T14:02:03.4420864Z",
              "parent_msg_id": "19eecfa0-771a-44d0-8c7b-0a8dc094cafc"
            },
            "text/plain": "StatementMeta(spark0ghz8yx, 0, 3, Finished, Available, Finished)"
          },
          "metadata": {}
        },
        {
          "output_type": "display_data",
          "data": {
            "application/vnd.synapse.widget-view+json": {
              "widget_id": "2cfa4f86-a280-493b-a6a4-65b8e79ad42f",
              "widget_type": "Synapse.DataFrame"
            },
            "text/plain": "SynapseWidget(Synapse.DataFrame, 2cfa4f86-a280-493b-a6a4-65b8e79ad42f)"
          },
          "metadata": {}
        }
      ],
      "execution_count": 2,
      "metadata": {
        "microsoft": {
          "language": "python"
        },
        "collapsed": false
      }
    },
    {
      "cell_type": "code",
      "source": [
        " df_counts = df.groupby(df.Category).count()\r\n",
        " display(df_counts)"
      ],
      "outputs": [
        {
          "output_type": "display_data",
          "data": {
            "application/vnd.livy.statement-meta+json": {
              "spark_pool": "spark0ghz8yx",
              "statement_id": 4,
              "statement_ids": [
                4
              ],
              "state": "finished",
              "livy_statement_state": "available",
              "spark_jobs": null,
              "session_id": "0",
              "normalized_state": "finished",
              "queued_time": "2025-01-19T14:01:52.9071343Z",
              "session_start_time": null,
              "execution_start_time": "2025-01-19T14:02:03.5805361Z",
              "execution_finish_time": "2025-01-19T14:02:07.5655036Z",
              "parent_msg_id": "8d315bf9-0f33-49c9-9def-e3edf2048e7d"
            },
            "text/plain": "StatementMeta(spark0ghz8yx, 0, 4, Finished, Available, Finished)"
          },
          "metadata": {}
        },
        {
          "output_type": "display_data",
          "data": {
            "application/vnd.synapse.widget-view+json": {
              "widget_id": "d213c1f5-5984-4686-bc4f-e9f6959a9974",
              "widget_type": "Synapse.DataFrame"
            },
            "text/plain": "SynapseWidget(Synapse.DataFrame, d213c1f5-5984-4686-bc4f-e9f6959a9974)"
          },
          "metadata": {}
        }
      ],
      "execution_count": 3,
      "metadata": {
        "jupyter": {
          "source_hidden": false,
          "outputs_hidden": false
        },
        "nteract": {
          "transient": {
            "deleting": false
          }
        },
        "collapsed": false
      }
    },
    {
      "cell_type": "code",
      "source": [],
      "outputs": [],
      "execution_count": null,
      "metadata": {
        "jupyter": {
          "source_hidden": false,
          "outputs_hidden": false
        },
        "nteract": {
          "transient": {
            "deleting": false
          }
        }
      }
    }
  ],
  "metadata": {
    "language_info": {
      "name": "python"
    },
    "kernelspec": {
      "name": "synapse_pyspark",
      "language": "Python",
      "display_name": "Synapse PySpark"
    },
    "kernel_info": {
      "name": "synapse_pyspark"
    },
    "save_output": true,
    "synapse_widget": {
      "version": "0.1",
      "state": {
        "2cfa4f86-a280-493b-a6a4-65b8e79ad42f": {
          "type": "Synapse.DataFrame",
          "sync_state": {
            "table": {
              "rows": [
                {
                  "0": "771",
                  "1": "Mountain-100 Silver, 38",
                  "2": "Mountain Bikes",
                  "3": "3399.9900"
                },
                {
                  "0": "772",
                  "1": "Mountain-100 Silver, 42",
                  "2": "Mountain Bikes",
                  "3": "3399.9900"
                },
                {
                  "0": "773",
                  "1": "Mountain-100 Silver, 44",
                  "2": "Mountain Bikes",
                  "3": "3399.9900"
                },
                {
                  "0": "774",
                  "1": "Mountain-100 Silver, 48",
                  "2": "Mountain Bikes",
                  "3": "3399.9900"
                },
                {
                  "0": "775",
                  "1": "Mountain-100 Black, 38",
                  "2": "Mountain Bikes",
                  "3": "3374.9900"
                },
                {
                  "0": "776",
                  "1": "Mountain-100 Black, 42",
                  "2": "Mountain Bikes",
                  "3": "3374.9900"
                },
                {
                  "0": "777",
                  "1": "Mountain-100 Black, 44",
                  "2": "Mountain Bikes",
                  "3": "3374.9900"
                },
                {
                  "0": "778",
                  "1": "Mountain-100 Black, 48",
                  "2": "Mountain Bikes",
                  "3": "3374.9900"
                },
                {
                  "0": "779",
                  "1": "Mountain-200 Silver, 38",
                  "2": "Mountain Bikes",
                  "3": "2319.9900"
                },
                {
                  "0": "780",
                  "1": "Mountain-200 Silver, 42",
                  "2": "Mountain Bikes",
                  "3": "2319.9900"
                }
              ],
              "schema": [
                {
                  "key": "0",
                  "name": "ProductID",
                  "type": "string"
                },
                {
                  "key": "1",
                  "name": "ProductName",
                  "type": "string"
                },
                {
                  "key": "2",
                  "name": "Category",
                  "type": "string"
                },
                {
                  "key": "3",
                  "name": "ListPrice",
                  "type": "string"
                }
              ],
              "truncated": false
            },
            "isSummary": false,
            "language": "scala",
            "wranglerEntryContext": {
              "dataframeType": "pyspark"
            }
          },
          "persist_state": {
            "view": {
              "type": "details",
              "tableOptions": {},
              "chartOptions": {
                "chartType": "bar",
                "aggregationType": "count",
                "categoryFieldKeys": [
                  "0"
                ],
                "seriesFieldKeys": [
                  "0"
                ],
                "isStacked": false
              }
            }
          }
        },
        "d213c1f5-5984-4686-bc4f-e9f6959a9974": {
          "type": "Synapse.DataFrame",
          "sync_state": {
            "table": {
              "rows": [
                {
                  "0": "Headsets",
                  "1": "3"
                },
                {
                  "0": "Wheels",
                  "1": "14"
                },
                {
                  "0": "Bottom Brackets",
                  "1": "3"
                },
                {
                  "0": "Touring Frames",
                  "1": "18"
                },
                {
                  "0": "Mountain Bikes",
                  "1": "32"
                },
                {
                  "0": "Pedals",
                  "1": "7"
                },
                {
                  "0": "Derailleurs",
                  "1": "2"
                },
                {
                  "0": "Chains",
                  "1": "1"
                },
                {
                  "0": "Pumps",
                  "1": "2"
                },
                {
                  "0": "Hydration Packs",
                  "1": "1"
                },
                {
                  "0": "Road Bikes",
                  "1": "43"
                },
                {
                  "0": "Bottles and Cages",
                  "1": "3"
                },
                {
                  "0": "Road Frames",
                  "1": "33"
                },
                {
                  "0": "Forks",
                  "1": "3"
                },
                {
                  "0": "Vests",
                  "1": "3"
                },
                {
                  "0": "Brakes",
                  "1": "2"
                },
                {
                  "0": "Helmets",
                  "1": "3"
                },
                {
                  "0": "Saddles",
                  "1": "9"
                },
                {
                  "0": "Tights",
                  "1": "3"
                },
                {
                  "0": "Jerseys",
                  "1": "8"
                },
                {
                  "0": "Gloves",
                  "1": "6"
                },
                {
                  "0": "Panniers",
                  "1": "1"
                },
                {
                  "0": "Touring Bikes",
                  "1": "22"
                },
                {
                  "0": "Bike Racks",
                  "1": "1"
                },
                {
                  "0": "Fenders",
                  "1": "1"
                },
                {
                  "0": "Caps",
                  "1": "1"
                },
                {
                  "0": "Lights",
                  "1": "3"
                },
                {
                  "0": "Cranksets",
                  "1": "3"
                },
                {
                  "0": "Shorts",
                  "1": "7"
                },
                {
                  "0": "Locks",
                  "1": "1"
                },
                {
                  "0": "Bike Stands",
                  "1": "1"
                },
                {
                  "0": "Bib-Shorts",
                  "1": "3"
                },
                {
                  "0": "Handlebars",
                  "1": "8"
                },
                {
                  "0": "Mountain Frames",
                  "1": "28"
                },
                {
                  "0": "Tires and Tubes",
                  "1": "11"
                },
                {
                  "0": "Cleaners",
                  "1": "1"
                },
                {
                  "0": "Socks",
                  "1": "4"
                }
              ],
              "schema": [
                {
                  "key": "0",
                  "name": "Category",
                  "type": "string"
                },
                {
                  "key": "1",
                  "name": "count",
                  "type": "bigint"
                }
              ],
              "truncated": false
            },
            "isSummary": false,
            "language": "scala",
            "wranglerEntryContext": {
              "candidateVariableNames": [
                "df_counts"
              ],
              "dataframeType": "pyspark"
            }
          },
          "persist_state": {
            "view": {
              "type": "details",
              "tableOptions": {},
              "chartOptions": {
                "chartType": "bar",
                "aggregationType": "sum",
                "categoryFieldKeys": [
                  "0"
                ],
                "seriesFieldKeys": [
                  "1"
                ],
                "isStacked": false
              }
            }
          }
        }
      }
    }
  },
  "nbformat": 4,
  "nbformat_minor": 2
}