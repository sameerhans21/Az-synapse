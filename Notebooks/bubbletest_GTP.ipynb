{
 "cells": [
  {
   "cell_type": "markdown",
   "metadata": {},
   "source": [
    "## xApps<br>\n",
    "**KPM monitor xApp**<br><br>\n",
    "**RC monitor xApp**<br><br>\n",
    "**RC control xApp**<br><br>\n",
    "**(MAC + RLC + PDCP + GTP) monitor xApp**<br><br>\n",
    "\n",
    "\n"
   ]
  },
  {
   "cell_type": "markdown",
   "metadata": {},
   "source": [
    "## DB:<br>\n",
    "\n",
    "GTP_NGUT &nbsp;&nbsp;   KPM_MeasRecord&nbsp; &nbsp; PDCP_bearer &nbsp; &nbsp;   \tSLICE         \n",
    "KPM_LabelInfo&nbsp;   &nbsp;\tMAC_UE &nbsp; &nbsp;        \tRLC_bearer &nbsp;&nbsp;     \tUE_SLICE\n",
    "\n"
   ]
  },
  {
   "cell_type": "markdown",
   "metadata": {},
   "source": [
    "\n",
    "## Tables<br>\n",
    "**GTP_NGUT|8938**<br><br>\n",
    "KPM_MeasRecord|0<br><br>\n",
    "**PDCP_bearer|28783**<br><br>\n",
    "SLICE|0<br><br>\n",
    "KPM_LabelInfo|0<br><br>\n",
    "**MAC_UE|20321**<br><br>\n",
    "**RLC_bearer|8931**<br><br>\n",
    "UE_SLICE|0<br><br>"
   ]
  },
  {
   "cell_type": "code",
   "execution_count": 105,
   "metadata": {
    "collapsed": false,
    "microsoft": {
     "language": "python"
    }
   },
   "outputs": [
    {
     "data": {
      "application/vnd.livy.statement-meta+json": {
       "execution_finish_time": "2025-02-01T21:10:00.3992459Z",
       "execution_start_time": "2025-02-01T21:09:59.3258825Z",
       "livy_statement_state": "available",
       "normalized_state": "finished",
       "parent_msg_id": "857c6965-8571-41f8-bbdd-d05f1f4d2bcd",
       "queued_time": "2025-02-01T21:09:59.2214634Z",
       "session_id": "1",
       "session_start_time": null,
       "spark_jobs": null,
       "spark_pool": "sparkfv41bzh",
       "state": "finished",
       "statement_id": 101,
       "statement_ids": [
        101
       ]
      },
      "text/plain": [
       "StatementMeta(sparkfv41bzh, 1, 101, Finished, Available, Finished)"
      ]
     },
     "metadata": {},
     "output_type": "display_data"
    },
    {
     "data": {
      "application/vnd.synapse.widget-view+json": {
       "widget_id": "8b4f7df3-cc2e-4d1f-84e2-edbcb8139b51",
       "widget_type": "Synapse.DataFrame"
      },
      "text/plain": [
       "SynapseWidget(Synapse.DataFrame, 8b4f7df3-cc2e-4d1f-84e2-edbcb8139b51)"
      ]
     },
     "metadata": {},
     "output_type": "display_data"
    }
   ],
   "source": [
    "%%pyspark\n",
    "df = spark.read.load('abfss://files@datalakefv41bzh.dfs.core.windows.net/data/GTP_NGUT.csv', format='csv'\n",
    "## If header exists uncomment line below\n",
    ", header=True\n",
    ")\n",
    "display(df.limit(10))"
   ]
  },
  {
   "cell_type": "code",
   "execution_count": 106,
   "metadata": {
    "jupyter": {
     "outputs_hidden": false,
     "source_hidden": false
    },
    "nteract": {
     "transient": {
      "deleting": false
     }
    }
   },
   "outputs": [
    {
     "data": {
      "application/vnd.livy.statement-meta+json": {
       "execution_finish_time": "2025-02-01T21:10:00.6602431Z",
       "execution_start_time": "2025-02-01T21:10:00.5137593Z",
       "livy_statement_state": "available",
       "normalized_state": "finished",
       "parent_msg_id": "14f9f898-09c8-4eec-acc3-25272e66e8a0",
       "queued_time": "2025-02-01T21:09:59.2824568Z",
       "session_id": "1",
       "session_start_time": null,
       "spark_jobs": null,
       "spark_pool": "sparkfv41bzh",
       "state": "finished",
       "statement_id": 102,
       "statement_ids": [
        102
       ]
      },
      "text/plain": [
       "StatementMeta(sparkfv41bzh, 1, 102, Finished, Available, Finished)"
      ]
     },
     "metadata": {},
     "output_type": "display_data"
    },
    {
     "name": "stdout",
     "output_type": "stream",
     "text": [
      "root\n",
      " |-- tstamp: string (nullable = true)\n",
      " |-- ngran_node: string (nullable = true)\n",
      " |-- mcc: string (nullable = true)\n",
      " |-- mnc: string (nullable = true)\n",
      " |-- mnc_digit_len: string (nullable = true)\n",
      " |-- nb_id: string (nullable = true)\n",
      " |-- cu_du_id: string (nullable = true)\n",
      " |-- teidgnb: string (nullable = true)\n",
      " |-- rnti: string (nullable = true)\n",
      " |-- qfi: string (nullable = true)\n",
      " |-- teidupf: string (nullable = true)\n",
      "\n"
     ]
    }
   ],
   "source": [
    "df.printSchema()\n"
   ]
  },
  {
   "cell_type": "code",
   "execution_count": 107,
   "metadata": {
    "jupyter": {
     "outputs_hidden": false,
     "source_hidden": false
    },
    "nteract": {
     "transient": {
      "deleting": false
     }
    }
   },
   "outputs": [
    {
     "data": {
      "application/vnd.livy.statement-meta+json": {
       "execution_finish_time": "2025-02-01T21:10:00.9256396Z",
       "execution_start_time": "2025-02-01T21:10:00.769884Z",
       "livy_statement_state": "available",
       "normalized_state": "finished",
       "parent_msg_id": "0568294b-ad4b-4eb7-94cd-1381f0bbcdf6",
       "queued_time": "2025-02-01T21:09:59.3459382Z",
       "session_id": "1",
       "session_start_time": null,
       "spark_jobs": null,
       "spark_pool": "sparkfv41bzh",
       "state": "finished",
       "statement_id": 103,
       "statement_ids": [
        103
       ]
      },
      "text/plain": [
       "StatementMeta(sparkfv41bzh, 1, 103, Finished, Available, Finished)"
      ]
     },
     "metadata": {},
     "output_type": "display_data"
    }
   ],
   "source": [
    "# ngran_node = identifier for ngRAN node= 2\n",
    "# mcc= country of mobile network= 505\n",
    "# mnc = mobile network operator= 1\n",
    "# mnc_digit_len= length of mnc= 2\n",
    "# nb_id= node id -- base station= 1\n",
    "# cu_du_id= centralized unit or distributed unit = null\n"
   ]
  },
  {
   "cell_type": "code",
   "execution_count": 108,
   "metadata": {
    "jupyter": {
     "outputs_hidden": false,
     "source_hidden": false
    },
    "nteract": {
     "transient": {
      "deleting": false
     }
    }
   },
   "outputs": [
    {
     "data": {
      "application/vnd.livy.statement-meta+json": {
       "execution_finish_time": "2025-02-01T21:10:01.19329Z",
       "execution_start_time": "2025-02-01T21:10:01.0402159Z",
       "livy_statement_state": "available",
       "normalized_state": "finished",
       "parent_msg_id": "03cced27-e659-4856-adc2-d7825b103479",
       "queued_time": "2025-02-01T21:09:59.481501Z",
       "session_id": "1",
       "session_start_time": null,
       "spark_jobs": null,
       "spark_pool": "sparkfv41bzh",
       "state": "finished",
       "statement_id": 104,
       "statement_ids": [
        104
       ]
      },
      "text/plain": [
       "StatementMeta(sparkfv41bzh, 1, 104, Finished, Available, Finished)"
      ]
     },
     "metadata": {},
     "output_type": "display_data"
    }
   ],
   "source": [
    "# teidgnb= Tunnel Endpoint Identifier (TEID) for gNB, idnetfying GTP tunnels for user data = 9\n",
    "# rnti= radio network temporary identifier = 9\n",
    "# qfi= QoS flow identifier, defines quality of service flow = 9\n",
    "# teidupf= \tTunnel Endpoint Identifier (TEID) for User Plane Function (UPF) = 9"
   ]
  },
  {
   "cell_type": "code",
   "execution_count": 109,
   "metadata": {
    "jupyter": {
     "outputs_hidden": false,
     "source_hidden": false
    },
    "nteract": {
     "transient": {
      "deleting": false
     }
    }
   },
   "outputs": [
    {
     "data": {
      "application/vnd.livy.statement-meta+json": {
       "execution_finish_time": "2025-02-01T21:10:01.8359405Z",
       "execution_start_time": "2025-02-01T21:10:01.312041Z",
       "livy_statement_state": "available",
       "normalized_state": "finished",
       "parent_msg_id": "fe89aa15-f749-4418-9d14-a150bc5402e5",
       "queued_time": "2025-02-01T21:09:59.6555213Z",
       "session_id": "1",
       "session_start_time": null,
       "spark_jobs": null,
       "spark_pool": "sparkfv41bzh",
       "state": "finished",
       "statement_id": 105,
       "statement_ids": [
        105
       ]
      },
      "text/plain": [
       "StatementMeta(sparkfv41bzh, 1, 105, Finished, Available, Finished)"
      ]
     },
     "metadata": {},
     "output_type": "display_data"
    },
    {
     "data": {
      "text/plain": [
       "9"
      ]
     },
     "execution_count": 211,
     "metadata": {},
     "output_type": "execute_result"
    }
   ],
   "source": [
    "df.select(\"teidupf\").distinct().count()\n"
   ]
  },
  {
   "cell_type": "code",
   "execution_count": 110,
   "metadata": {
    "jupyter": {
     "outputs_hidden": false,
     "source_hidden": false
    },
    "nteract": {
     "transient": {
      "deleting": false
     }
    }
   },
   "outputs": [
    {
     "data": {
      "application/vnd.livy.statement-meta+json": {
       "execution_finish_time": "2025-02-01T21:10:02.0975514Z",
       "execution_start_time": "2025-02-01T21:10:01.9556521Z",
       "livy_statement_state": "available",
       "normalized_state": "finished",
       "parent_msg_id": "1e580c8e-1dca-4c69-84cd-00768cdc3ed4",
       "queued_time": "2025-02-01T21:09:59.7925814Z",
       "session_id": "1",
       "session_start_time": null,
       "spark_jobs": null,
       "spark_pool": "sparkfv41bzh",
       "state": "finished",
       "statement_id": 106,
       "statement_ids": [
        106
       ]
      },
      "text/plain": [
       "StatementMeta(sparkfv41bzh, 1, 106, Finished, Available, Finished)"
      ]
     },
     "metadata": {},
     "output_type": "display_data"
    },
    {
     "data": {
      "text/plain": [
       "StructType([StructField('tstamp', StringType(), True), StructField('ngran_node', StringType(), True), StructField('mcc', StringType(), True), StructField('mnc', StringType(), True), StructField('mnc_digit_len', StringType(), True), StructField('nb_id', StringType(), True), StructField('cu_du_id', StringType(), True), StructField('teidgnb', StringType(), True), StructField('rnti', StringType(), True), StructField('qfi', StringType(), True), StructField('teidupf', StringType(), True)])"
      ]
     },
     "execution_count": 213,
     "metadata": {},
     "output_type": "execute_result"
    }
   ],
   "source": [
    "df.schema"
   ]
  },
  {
   "cell_type": "code",
   "execution_count": 111,
   "metadata": {
    "jupyter": {
     "outputs_hidden": false,
     "source_hidden": false
    },
    "nteract": {
     "transient": {
      "deleting": false
     }
    }
   },
   "outputs": [
    {
     "data": {
      "application/vnd.livy.statement-meta+json": {
       "execution_finish_time": "2025-02-01T21:10:02.3644193Z",
       "execution_start_time": "2025-02-01T21:10:02.2103412Z",
       "livy_statement_state": "available",
       "normalized_state": "finished",
       "parent_msg_id": "8b6bd171-32f3-47c6-963a-8d3f26217d3d",
       "queued_time": "2025-02-01T21:09:59.8848594Z",
       "session_id": "1",
       "session_start_time": null,
       "spark_jobs": null,
       "spark_pool": "sparkfv41bzh",
       "state": "finished",
       "statement_id": 107,
       "statement_ids": [
        107
       ]
      },
      "text/plain": [
       "StatementMeta(sparkfv41bzh, 1, 107, Finished, Available, Finished)"
      ]
     },
     "metadata": {},
     "output_type": "display_data"
    },
    {
     "data": {
      "text/plain": [
       "8938"
      ]
     },
     "execution_count": 215,
     "metadata": {},
     "output_type": "execute_result"
    }
   ],
   "source": [
    "df.count()\n",
    "\n"
   ]
  },
  {
   "cell_type": "code",
   "execution_count": 112,
   "metadata": {
    "jupyter": {
     "outputs_hidden": false,
     "source_hidden": false
    },
    "nteract": {
     "transient": {
      "deleting": false
     }
    }
   },
   "outputs": [
    {
     "data": {
      "application/vnd.livy.statement-meta+json": {
       "execution_finish_time": "2025-02-01T21:10:03.6158746Z",
       "execution_start_time": "2025-02-01T21:10:02.4796368Z",
       "livy_statement_state": "available",
       "normalized_state": "finished",
       "parent_msg_id": "87b2584d-4edc-413f-8b40-f8da94448906",
       "queued_time": "2025-02-01T21:09:59.9713011Z",
       "session_id": "1",
       "session_start_time": null,
       "spark_jobs": null,
       "spark_pool": "sparkfv41bzh",
       "state": "finished",
       "statement_id": 108,
       "statement_ids": [
        108
       ]
      },
      "text/plain": [
       "StatementMeta(sparkfv41bzh, 1, 108, Finished, Available, Finished)"
      ]
     },
     "metadata": {},
     "output_type": "display_data"
    },
    {
     "name": "stdout",
     "output_type": "stream",
     "text": [
      "+-------+--------------------+----------+-----+----+-------------+-----+--------+-----------------+-----------------+------------------+-----------------+\n",
      "|summary|              tstamp|ngran_node|  mcc| mnc|mnc_digit_len|nb_id|cu_du_id|          teidgnb|             rnti|               qfi|          teidupf|\n",
      "+-------+--------------------+----------+-----+----+-------------+-----+--------+-----------------+-----------------+------------------+-----------------+\n",
      "|  count|                8938|      8938| 8938|8938|         8938| 8938|    8938|             8938|             8938|              8938|             8938|\n",
      "|   mean|1.738422079841274E15|       2.0|505.0| 1.0|          2.0|  1.0|    null|320.0482210785411|620.4099351085254|121.12049675542627|138.0355784291788|\n",
      "| stddev|   1849516.878097519|       0.0|  0.0| 0.0|          0.0|  0.0|    null|310.5652864692909|321.4208111010509| 72.85602641269605|85.07625648621557|\n",
      "|    min|    1738422077014901|         2|  505|   1|            2|    1|  (null)|             1002|             1022|                 1|              159|\n",
      "|    max|    1738422083013887|         2|  505|   1|            2|    1|  (null)|               98|              991|                89|               87|\n",
      "+-------+--------------------+----------+-----+----+-------------+-----+--------+-----------------+-----------------+------------------+-----------------+\n",
      "\n"
     ]
    }
   ],
   "source": [
    "df.describe().show()\n"
   ]
  },
  {
   "cell_type": "code",
   "execution_count": 113,
   "metadata": {
    "jupyter": {
     "outputs_hidden": false,
     "source_hidden": false
    },
    "nteract": {
     "transient": {
      "deleting": false
     }
    }
   },
   "outputs": [
    {
     "data": {
      "application/vnd.livy.statement-meta+json": {
       "execution_finish_time": "2025-02-01T21:10:04.2397527Z",
       "execution_start_time": "2025-02-01T21:10:03.737859Z",
       "livy_statement_state": "available",
       "normalized_state": "finished",
       "parent_msg_id": "656e313f-0946-43ec-8028-c3f9c29945d7",
       "queued_time": "2025-02-01T21:10:00.0628933Z",
       "session_id": "1",
       "session_start_time": null,
       "spark_jobs": null,
       "spark_pool": "sparkfv41bzh",
       "state": "finished",
       "statement_id": 109,
       "statement_ids": [
        109
       ]
      },
      "text/plain": [
       "StatementMeta(sparkfv41bzh, 1, 109, Finished, Available, Finished)"
      ]
     },
     "metadata": {},
     "output_type": "display_data"
    },
    {
     "name": "stdout",
     "output_type": "stream",
     "text": [
      "+---+-----+\n",
      "|qfi|count|\n",
      "+---+-----+\n",
      "|120|  979|\n",
      "|174|  991|\n",
      "|  1|  991|\n",
      "|146|  993|\n",
      "| 35|  993|\n",
      "| 89|  993|\n",
      "|205|  999|\n",
      "|235|  999|\n",
      "| 84| 1000|\n",
      "+---+-----+\n",
      "\n"
     ]
    }
   ],
   "source": [
    "#  Distribution of QFI Values\n",
    "\n",
    "df.groupBy(\"qfi\").count().orderBy(\"count\").show()\n"
   ]
  },
  {
   "cell_type": "code",
   "execution_count": 114,
   "metadata": {
    "jupyter": {
     "outputs_hidden": false,
     "source_hidden": false
    },
    "nteract": {
     "transient": {
      "deleting": false
     }
    }
   },
   "outputs": [
    {
     "data": {
      "application/vnd.livy.statement-meta+json": {
       "execution_finish_time": "2025-02-01T21:10:04.9007716Z",
       "execution_start_time": "2025-02-01T21:10:04.361185Z",
       "livy_statement_state": "available",
       "normalized_state": "finished",
       "parent_msg_id": "34376908-776e-448c-91b3-5f9995f02226",
       "queued_time": "2025-02-01T21:10:00.1306753Z",
       "session_id": "1",
       "session_start_time": null,
       "spark_jobs": null,
       "spark_pool": "sparkfv41bzh",
       "state": "finished",
       "statement_id": 110,
       "statement_ids": [
        110
       ]
      },
      "text/plain": [
       "StatementMeta(sparkfv41bzh, 1, 110, Finished, Available, Finished)"
      ]
     },
     "metadata": {},
     "output_type": "display_data"
    },
    {
     "name": "stdout",
     "output_type": "stream",
     "text": [
      "+-------+-----+\n",
      "|teidgnb|count|\n",
      "+-------+-----+\n",
      "|    314|  979|\n",
      "|    722|  991|\n",
      "|    135|  991|\n",
      "|     98|  993|\n",
      "|    303|  993|\n",
      "|    165|  993|\n",
      "|     21|  999|\n",
      "|    119|  999|\n",
      "|   1002| 1000|\n",
      "+-------+-----+\n",
      "\n"
     ]
    }
   ],
   "source": [
    "# Distribution of (TEID) for gNB\n",
    "df.groupBy(\"teidgnb\").count().orderBy(\"count\").show()\n"
   ]
  },
  {
   "cell_type": "code",
   "execution_count": 115,
   "metadata": {
    "jupyter": {
     "outputs_hidden": false,
     "source_hidden": false
    },
    "nteract": {
     "transient": {
      "deleting": false
     }
    }
   },
   "outputs": [
    {
     "data": {
      "application/vnd.livy.statement-meta+json": {
       "execution_finish_time": "2025-02-01T21:10:05.5353666Z",
       "execution_start_time": "2025-02-01T21:10:05.0295755Z",
       "livy_statement_state": "available",
       "normalized_state": "finished",
       "parent_msg_id": "62dac68e-7670-4f23-a811-9dcf83d6417a",
       "queued_time": "2025-02-01T21:10:00.2176758Z",
       "session_id": "1",
       "session_start_time": null,
       "spark_jobs": null,
       "spark_pool": "sparkfv41bzh",
       "state": "finished",
       "statement_id": 111,
       "statement_ids": [
        111
       ]
      },
      "text/plain": [
       "StatementMeta(sparkfv41bzh, 1, 111, Finished, Available, Finished)"
      ]
     },
     "metadata": {},
     "output_type": "display_data"
    },
    {
     "name": "stdout",
     "output_type": "stream",
     "text": [
      "+----+-----+\n",
      "|rnti|count|\n",
      "+----+-----+\n",
      "| 770|  979|\n",
      "|  69|  991|\n",
      "| 510|  991|\n",
      "| 991|  993|\n",
      "| 950|  993|\n",
      "| 637|  993|\n",
      "| 327|  999|\n",
      "|1022|  999|\n",
      "| 310| 1000|\n",
      "+----+-----+\n",
      "\n"
     ]
    }
   ],
   "source": [
    "# Distribution of radio network temporary identifier\n",
    "df.groupBy(\"rnti\").count().orderBy(\"count\").show()"
   ]
  },
  {
   "cell_type": "code",
   "execution_count": 116,
   "metadata": {
    "jupyter": {
     "outputs_hidden": false,
     "source_hidden": false
    },
    "nteract": {
     "transient": {
      "deleting": false
     }
    }
   },
   "outputs": [
    {
     "data": {
      "application/vnd.livy.statement-meta+json": {
       "execution_finish_time": "2025-02-01T21:10:06.1748116Z",
       "execution_start_time": "2025-02-01T21:10:05.6541113Z",
       "livy_statement_state": "available",
       "normalized_state": "finished",
       "parent_msg_id": "611b0878-3b2b-4af2-bdb7-83299c0d2e53",
       "queued_time": "2025-02-01T21:10:00.3145848Z",
       "session_id": "1",
       "session_start_time": null,
       "spark_jobs": null,
       "spark_pool": "sparkfv41bzh",
       "state": "finished",
       "statement_id": 112,
       "statement_ids": [
        112
       ]
      },
      "text/plain": [
       "StatementMeta(sparkfv41bzh, 1, 112, Finished, Available, Finished)"
      ]
     },
     "metadata": {},
     "output_type": "display_data"
    },
    {
     "name": "stdout",
     "output_type": "stream",
     "text": [
      "+-------+-----+\n",
      "|teidupf|count|\n",
      "+-------+-----+\n",
      "|     87|  979|\n",
      "|    166|  991|\n",
      "|     20|  991|\n",
      "|    159|  993|\n",
      "|     56|  993|\n",
      "|    253|  993|\n",
      "|    245|  999|\n",
      "|    216|  999|\n",
      "|     39| 1000|\n",
      "+-------+-----+\n",
      "\n"
     ]
    }
   ],
   "source": [
    "# Distribution of (TEID) for User Plane Function (UPF)\n",
    "df.groupBy(\"teidupf\").count().orderBy(\"count\").show()"
   ]
  },
  {
   "cell_type": "code",
   "execution_count": 117,
   "metadata": {
    "jupyter": {
     "outputs_hidden": false,
     "source_hidden": false
    },
    "nteract": {
     "transient": {
      "deleting": false
     }
    }
   },
   "outputs": [
    {
     "data": {
      "application/vnd.livy.statement-meta+json": {
       "execution_finish_time": "2025-02-01T21:10:06.4406392Z",
       "execution_start_time": "2025-02-01T21:10:06.2924921Z",
       "livy_statement_state": "available",
       "normalized_state": "finished",
       "parent_msg_id": "cb2b1b6d-1ebc-4036-8f07-bdbdae4db6c7",
       "queued_time": "2025-02-01T21:10:00.3824526Z",
       "session_id": "1",
       "session_start_time": null,
       "spark_jobs": null,
       "spark_pool": "sparkfv41bzh",
       "state": "finished",
       "statement_id": 113,
       "statement_ids": [
        113
       ]
      },
      "text/plain": [
       "StatementMeta(sparkfv41bzh, 1, 113, Finished, Available, Finished)"
      ]
     },
     "metadata": {},
     "output_type": "display_data"
    },
    {
     "name": "stdout",
     "output_type": "stream",
     "text": [
      "+----------------+----------+---+---+-------------+-----+--------+-------+----+---+-------+-------------------+\n",
      "|tstamp          |ngran_node|mcc|mnc|mnc_digit_len|nb_id|cu_du_id|teidgnb|rnti|qfi|teidupf|timestamp          |\n",
      "+----------------+----------+---+---+-------------+-----+--------+-------+----+---+-------+-------------------+\n",
      "|1738422077014901|2         |505|1  |2            |1    |(null)  |119    |327 |235|245    |2025-02-01 15:01:17|\n",
      "|1738422077014901|2         |505|1  |2            |1    |(null)  |21     |1022|205|216    |2025-02-01 15:01:17|\n",
      "|1738422077015886|2         |505|1  |2            |1    |(null)  |119    |327 |235|245    |2025-02-01 15:01:17|\n",
      "|1738422077015886|2         |505|1  |2            |1    |(null)  |21     |1022|205|216    |2025-02-01 15:01:17|\n",
      "|1738422077016901|2         |505|1  |2            |1    |(null)  |119    |327 |235|245    |2025-02-01 15:01:17|\n",
      "|1738422077016901|2         |505|1  |2            |1    |(null)  |21     |1022|205|216    |2025-02-01 15:01:17|\n",
      "|1738422077017895|2         |505|1  |2            |1    |(null)  |119    |327 |235|245    |2025-02-01 15:01:17|\n",
      "|1738422077017895|2         |505|1  |2            |1    |(null)  |21     |1022|205|216    |2025-02-01 15:01:17|\n",
      "|1738422077018893|2         |505|1  |2            |1    |(null)  |119    |327 |235|245    |2025-02-01 15:01:17|\n",
      "|1738422077018893|2         |505|1  |2            |1    |(null)  |21     |1022|205|216    |2025-02-01 15:01:17|\n",
      "|1738422077019885|2         |505|1  |2            |1    |(null)  |119    |327 |235|245    |2025-02-01 15:01:17|\n",
      "|1738422077019885|2         |505|1  |2            |1    |(null)  |21     |1022|205|216    |2025-02-01 15:01:17|\n",
      "|1738422077020885|2         |505|1  |2            |1    |(null)  |119    |327 |235|245    |2025-02-01 15:01:17|\n",
      "|1738422077020885|2         |505|1  |2            |1    |(null)  |21     |1022|205|216    |2025-02-01 15:01:17|\n",
      "|1738422077021886|2         |505|1  |2            |1    |(null)  |119    |327 |235|245    |2025-02-01 15:01:17|\n",
      "|1738422077021886|2         |505|1  |2            |1    |(null)  |21     |1022|205|216    |2025-02-01 15:01:17|\n",
      "|1738422077022943|2         |505|1  |2            |1    |(null)  |119    |327 |235|245    |2025-02-01 15:01:17|\n",
      "|1738422077022943|2         |505|1  |2            |1    |(null)  |21     |1022|205|216    |2025-02-01 15:01:17|\n",
      "|1738422077023886|2         |505|1  |2            |1    |(null)  |119    |327 |235|245    |2025-02-01 15:01:17|\n",
      "|1738422077023886|2         |505|1  |2            |1    |(null)  |21     |1022|205|216    |2025-02-01 15:01:17|\n",
      "+----------------+----------+---+---+-------------+-----+--------+-------+----+---+-------+-------------------+\n",
      "only showing top 20 rows\n",
      "\n"
     ]
    }
   ],
   "source": [
    "from pyspark.sql.functions import from_unixtime, col\n",
    "\n",
    "df_gtp = df_gtp.withColumn(\"timestamp\", from_unixtime(col(\"tstamp\").cast(\"long\") / 1000000))\n",
    "\n",
    "df_gtp.show(truncate=False)\n"
   ]
  },
  {
   "cell_type": "code",
   "execution_count": 118,
   "metadata": {
    "jupyter": {
     "outputs_hidden": false,
     "source_hidden": false
    },
    "nteract": {
     "transient": {
      "deleting": false
     }
    }
   },
   "outputs": [
    {
     "data": {
      "application/vnd.livy.statement-meta+json": {
       "execution_finish_time": "2025-02-01T21:10:07.0909136Z",
       "execution_start_time": "2025-02-01T21:10:06.5501354Z",
       "livy_statement_state": "available",
       "normalized_state": "finished",
       "parent_msg_id": "e0b87e3e-06da-45c1-8bdb-885ab3638f56",
       "queued_time": "2025-02-01T21:10:00.4736063Z",
       "session_id": "1",
       "session_start_time": null,
       "spark_jobs": null,
       "spark_pool": "sparkfv41bzh",
       "state": "finished",
       "statement_id": 114,
       "statement_ids": [
        114
       ]
      },
      "text/plain": [
       "StatementMeta(sparkfv41bzh, 1, 114, Finished, Available, Finished)"
      ]
     },
     "metadata": {},
     "output_type": "display_data"
    },
    {
     "data": {
      "image/png": "[encoded data removed]",
      "text/plain": [
       "<Figure size 1000x600 with 1 Axes>"
      ]
     },
     "metadata": {},
     "output_type": "display_data"
    }
   ],
   "source": [
    "import matplotlib.pyplot as plt\n",
    "import pandas as pd\n",
    "from pyspark.sql import functions as F\n",
    "\n",
    "# Aggregate count by timestamp (grouping by 'timestamp' column)\n",
    "df_gtp_aggregated = df_gtp.groupBy(\"timestamp\").agg(F.count(\"*\").alias(\"count\"))\n",
    "\n",
    "pdf = df_gtp_aggregated.toPandas()\n",
    "\n",
    "pdf[\"timestamp\"] = pd.to_datetime(pdf[\"timestamp\"])\n",
    "\n",
    "plt.figure(figsize=(10, 6))\n",
    "plt.scatter(pdf[\"timestamp\"], pdf[\"count\"], color='b', marker='o')\n",
    "\n",
    "# Annotating each point with its count value\n",
    "for i, row in pdf.iterrows():\n",
    "    plt.text(row[\"timestamp\"], row[\"count\"], str(row[\"count\"]), fontsize=9, ha='right', color='blue')\n",
    "\n",
    "plt.xlabel(\"Timestamp\")\n",
    "plt.ylabel(\"Session Count\")\n",
    "plt.title(\"Session Count Over Time\")\n",
    "\n",
    "plt.xticks(rotation=45) \n",
    "plt.grid(True)\n",
    "plt.tight_layout()\n",
    "plt.show()\n"
   ]
  },
  {
   "cell_type": "code",
   "execution_count": 119,
   "metadata": {
    "jupyter": {
     "outputs_hidden": false,
     "source_hidden": false
    },
    "nteract": {
     "transient": {
      "deleting": false
     }
    }
   },
   "outputs": [
    {
     "data": {
      "application/vnd.livy.statement-meta+json": {
       "execution_finish_time": "2025-02-01T21:10:07.7273827Z",
       "execution_start_time": "2025-02-01T21:10:07.2005608Z",
       "livy_statement_state": "available",
       "normalized_state": "finished",
       "parent_msg_id": "77bcaab5-13fb-489b-bfa8-43e19edf7407",
       "queued_time": "2025-02-01T21:10:00.5665621Z",
       "session_id": "1",
       "session_start_time": null,
       "spark_jobs": null,
       "spark_pool": "sparkfv41bzh",
       "state": "finished",
       "statement_id": 115,
       "statement_ids": [
        115
       ]
      },
      "text/plain": [
       "StatementMeta(sparkfv41bzh, 1, 115, Finished, Available, Finished)"
      ]
     },
     "metadata": {},
     "output_type": "display_data"
    },
    {
     "name": "stdout",
     "output_type": "stream",
     "text": [
      "Correlation between rnti and teidgnb: -0.679008914518616\n"
     ]
    }
   ],
   "source": [
    "\n",
    "from pyspark.sql.functions import col\n",
    "\n",
    "dftest = df.withColumn('rnti', col('rnti').cast('double')) \\\n",
    "       .withColumn('teidgnb', col('teidgnb').cast('double'))\n",
    "\n",
    "# Calculate the correlation between rnti and teidgnb\n",
    "correlation = dftest.stat.corr('rnti', 'teidgnb')\n",
    "print(f\"Correlation between rnti and teidgnb: {correlation}\")\n"
   ]
  },
  {
   "cell_type": "markdown",
   "metadata": {
    "nteract": {
     "transient": {
      "deleting": false
     }
    }
   },
   "source": [
    "A correlation of -0.679 suggests a moderate negative relationship between rnti and teidgnb. This means that as the rnti (radio network temporary identifier) increases, the teidgnb (Tunnel Endpoint Identifier for gNB) tends to decrease, but the relationship is not perfectly linear.\n",
    "\n",
    "The negative correlation could indicate that, under certain conditions, when one of these values increases (e.g., rnti), the other (e.g., teidgnb) might tend to decrease.\n",
    "\n",
    "A correlation of this magnitude (around -0.68) is considered moderately strong, so there might be a relevant underlying relationship between these two variables that could be important for your analysis.\n"
   ]
  },
  {
   "cell_type": "code",
   "execution_count": 124,
   "metadata": {
    "jupyter": {
     "outputs_hidden": false,
     "source_hidden": false
    },
    "nteract": {
     "transient": {
      "deleting": false
     }
    }
   },
   "outputs": [
    {
     "data": {
      "application/vnd.livy.statement-meta+json": {
       "execution_finish_time": "2025-02-01T21:11:46.7315352Z",
       "execution_start_time": "2025-02-01T21:11:46.2093409Z",
       "livy_statement_state": "available",
       "normalized_state": "finished",
       "parent_msg_id": "1aa2f634-212c-47d9-8991-41696d68dc39",
       "queued_time": "2025-02-01T21:11:46.0970558Z",
       "session_id": "1",
       "session_start_time": null,
       "spark_jobs": null,
       "spark_pool": "sparkfv41bzh",
       "state": "finished",
       "statement_id": 120,
       "statement_ids": [
        120
       ]
      },
      "text/plain": [
       "StatementMeta(sparkfv41bzh, 1, 120, Finished, Available, Finished)"
      ]
     },
     "metadata": {},
     "output_type": "display_data"
    },
    {
     "data": {
      "image/png": "[encoded data removed]",
      "text/plain": [
       "<Figure size 800x600 with 2 Axes>"
      ]
     },
     "metadata": {},
     "output_type": "display_data"
    }
   ],
   "source": [
    "import seaborn as sns\n",
    "\n",
    "numerical_df = df.select(\"rnti\", \"teidgnb\", \"qfi\",\"teidupf\")  \n",
    "\n",
    "numerical_df_pd = numerical_df.toPandas()\n",
    "\n",
    "numerical_df_pd = numerical_df_pd.apply(pd.to_numeric, errors='coerce')\n",
    "\n",
    "# Compute the correlation matrix\n",
    "correlation_matrix = numerical_df_pd.corr()\n",
    "\n",
    "# Plot the heatmap\n",
    "plt.figure(figsize=(8, 6))\n",
    "sns.heatmap(correlation_matrix, annot=True, cmap='coolwarm', vmin=-1, vmax=1, fmt='.2f')\n",
    "plt.title(\"Correlation Heatmap\")\n",
    "plt.show()\n",
    "\n"
   ]
  },
  {
   "cell_type": "code",
   "execution_count": null,
   "metadata": {
    "jupyter": {
     "outputs_hidden": false,
     "source_hidden": false
    },
    "nteract": {
     "transient": {
      "deleting": false
     }
    }
   },
   "outputs": [],
   "source": []
  }
 ],
 "metadata": {
  "kernel_info": {
   "name": "synapse_pyspark"
  },
  "kernelspec": {
   "display_name": "Synapse PySpark",
   "language": "Python",
   "name": "synapse_pyspark"
  },
  "language_info": {
   "name": "python"
  },
  "save_output": true,
  "synapse_widget": {
   "state": {
    "8b4f7df3-cc2e-4d1f-84e2-edbcb8139b51": {
     "persist_state": {
      "view": {
       "chartOptions": {
        "aggregationType": "count",
        "categoryFieldKeys": [
         "0"
        ],
        "chartType": "bar",
        "isStacked": false,
        "seriesFieldKeys": [
         "0"
        ]
       },
       "tableOptions": {},
       "type": "details"
      }
     },
     "sync_state": {
      "isSummary": false,
      "language": "scala",
      "table": {
       "rows": [
        {
         "0": "1738422077014901",
         "1": "2",
         "2": "505",
         "3": "1",
         "4": "2",
         "5": "1",
         "6": "(null)",
         "7": "119",
         "8": "327",
         "9": "235",
         "10": "245"
        },
        {
         "0": "1738422077014901",
         "1": "2",
         "2": "505",
         "3": "1",
         "4": "2",
         "5": "1",
         "6": "(null)",
         "7": "21",
         "8": "1022",
         "9": "205",
         "10": "216"
        },
        {
         "0": "1738422077015886",
         "1": "2",
         "2": "505",
         "3": "1",
         "4": "2",
         "5": "1",
         "6": "(null)",
         "7": "119",
         "8": "327",
         "9": "235",
         "10": "245"
        },
        {
         "0": "1738422077015886",
         "1": "2",
         "2": "505",
         "3": "1",
         "4": "2",
         "5": "1",
         "6": "(null)",
         "7": "21",
         "8": "1022",
         "9": "205",
         "10": "216"
        },
        {
         "0": "1738422077016901",
         "1": "2",
         "2": "505",
         "3": "1",
         "4": "2",
         "5": "1",
         "6": "(null)",
         "7": "119",
         "8": "327",
         "9": "235",
         "10": "245"
        },
        {
         "0": "1738422077016901",
         "1": "2",
         "2": "505",
         "3": "1",
         "4": "2",
         "5": "1",
         "6": "(null)",
         "7": "21",
         "8": "1022",
         "9": "205",
         "10": "216"
        },
        {
         "0": "1738422077017895",
         "1": "2",
         "2": "505",
         "3": "1",
         "4": "2",
         "5": "1",
         "6": "(null)",
         "7": "119",
         "8": "327",
         "9": "235",
         "10": "245"
        },
        {
         "0": "1738422077017895",
         "1": "2",
         "2": "505",
         "3": "1",
         "4": "2",
         "5": "1",
         "6": "(null)",
         "7": "21",
         "8": "1022",
         "9": "205",
         "10": "216"
        },
        {
         "0": "1738422077018893",
         "1": "2",
         "2": "505",
         "3": "1",
         "4": "2",
         "5": "1",
         "6": "(null)",
         "7": "119",
         "8": "327",
         "9": "235",
         "10": "245"
        },
        {
         "0": "1738422077018893",
         "1": "2",
         "2": "505",
         "3": "1",
         "4": "2",
         "5": "1",
         "6": "(null)",
         "7": "21",
         "8": "1022",
         "9": "205",
         "10": "216"
        }
       ],
       "schema": [
        {
         "key": "0",
         "name": "tstamp",
         "type": "string"
        },
        {
         "key": "1",
         "name": "ngran_node",
         "type": "string"
        },
        {
         "key": "2",
         "name": "mcc",
         "type": "string"
        },
        {
         "key": "3",
         "name": "mnc",
         "type": "string"
        },
        {
         "key": "4",
         "name": "mnc_digit_len",
         "type": "string"
        },
        {
         "key": "5",
         "name": "nb_id",
         "type": "string"
        },
        {
         "key": "6",
         "name": "cu_du_id",
         "type": "string"
        },
        {
         "key": "7",
         "name": "teidgnb",
         "type": "string"
        },
        {
         "key": "8",
         "name": "rnti",
         "type": "string"
        },
        {
         "key": "9",
         "name": "qfi",
         "type": "string"
        },
        {
         "key": "10",
         "name": "teidupf",
         "type": "string"
        }
       ],
       "truncated": false
      },
      "wranglerEntryContext": {
       "dataframeType": "pyspark"
      }
     },
     "type": "Synapse.DataFrame"
    }
   },
   "version": "0.1"
  }
 },
 "nbformat": 4,
 "nbformat_minor": 2
}
