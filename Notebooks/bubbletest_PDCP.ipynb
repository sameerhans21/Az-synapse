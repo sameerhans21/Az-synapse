{
  "cells": [
    {
      "cell_type": "code",
      "source": [
        "%%pyspark\r\n",
        "df = spark.read.load('abfss://files@datalakefv41bzh.dfs.core.windows.net/data/PDCP_bearer.csv', format='csv'\r\n",
        "## If header exists uncomment line below\r\n",
        ", header=True\r\n",
        ")\r\n",
        "display(df.limit(10))"
      ],
      "outputs": [
        {
          "output_type": "display_data",
          "data": {
            "application/vnd.livy.statement-meta+json": {
              "spark_pool": "sparkfv41bzh",
              "statement_id": 2,
              "statement_ids": [
                2
              ],
              "state": "finished",
              "livy_statement_state": "available",
              "spark_jobs": null,
              "session_id": "4",
              "normalized_state": "finished",
              "queued_time": "2025-02-02T10:40:01.0922156Z",
              "session_start_time": "2025-02-02T10:40:01.1246987Z",
              "execution_start_time": "2025-02-02T10:40:51.2040178Z",
              "execution_finish_time": "2025-02-02T10:40:59.8171491Z",
              "parent_msg_id": "91767ada-1a33-49da-9444-a8c11178f3d9"
            },
            "text/plain": "StatementMeta(sparkfv41bzh, 4, 2, Finished, Available, Finished)"
          },
          "metadata": {}
        },
        {
          "output_type": "display_data",
          "data": {
            "application/vnd.synapse.widget-view+json": {
              "widget_id": "ce8d0201-44c8-44f4-bc09-c16b5fddadaf",
              "widget_type": "Synapse.DataFrame"
            },
            "text/plain": "SynapseWidget(Synapse.DataFrame, ce8d0201-44c8-44f4-bc09-c16b5fddadaf)"
          },
          "metadata": {}
        }
      ],
      "execution_count": 24,
      "metadata": {
        "microsoft": {
          "language": "python"
        },
        "collapsed": false
      }
    },
    {
      "cell_type": "code",
      "source": [
        "df.count()"
      ],
      "outputs": [
        {
          "output_type": "display_data",
          "data": {
            "application/vnd.livy.statement-meta+json": {
              "spark_pool": "sparkfv41bzh",
              "statement_id": 3,
              "statement_ids": [
                3
              ],
              "state": "finished",
              "livy_statement_state": "available",
              "spark_jobs": null,
              "session_id": "4",
              "normalized_state": "finished",
              "queued_time": "2025-02-02T10:40:01.1503985Z",
              "session_start_time": null,
              "execution_start_time": "2025-02-02T10:40:59.9321309Z",
              "execution_finish_time": "2025-02-02T10:41:00.9850927Z",
              "parent_msg_id": "94532d71-24dc-4e51-aa0d-67f7ef879f1a"
            },
            "text/plain": "StatementMeta(sparkfv41bzh, 4, 3, Finished, Available, Finished)"
          },
          "metadata": {}
        },
        {
          "output_type": "execute_result",
          "execution_count": 7,
          "data": {
            "text/plain": "28783"
          },
          "metadata": {}
        }
      ],
      "execution_count": 25,
      "metadata": {
        "jupyter": {
          "source_hidden": false,
          "outputs_hidden": false
        },
        "nteract": {
          "transient": {
            "deleting": false
          }
        }
      }
    },
    {
      "cell_type": "code",
      "source": [
        "df.printSchema()\r\n"
      ],
      "outputs": [
        {
          "output_type": "display_data",
          "data": {
            "application/vnd.livy.statement-meta+json": {
              "spark_pool": "sparkfv41bzh",
              "statement_id": 4,
              "statement_ids": [
                4
              ],
              "state": "finished",
              "livy_statement_state": "available",
              "spark_jobs": null,
              "session_id": "4",
              "normalized_state": "finished",
              "queued_time": "2025-02-02T10:40:01.2306627Z",
              "session_start_time": null,
              "execution_start_time": "2025-02-02T10:41:01.1262622Z",
              "execution_finish_time": "2025-02-02T10:41:01.2890255Z",
              "parent_msg_id": "ac8c6b92-1cdd-48d8-8500-9c4e720b53d1"
            },
            "text/plain": "StatementMeta(sparkfv41bzh, 4, 4, Finished, Available, Finished)"
          },
          "metadata": {}
        },
        {
          "output_type": "stream",
          "name": "stdout",
          "text": [
            "root\n |-- tstamp: string (nullable = true)\n |-- ngran_node: string (nullable = true)\n |-- mcc: string (nullable = true)\n |-- mnc: string (nullable = true)\n |-- mnc_digit_len: string (nullable = true)\n |-- nb_id: string (nullable = true)\n |-- cu_du_id: string (nullable = true)\n |-- txpdu_pkts: string (nullable = true)\n |-- txpdu_bytes: string (nullable = true)\n |-- txpdu_sn: string (nullable = true)\n |-- rxpdu_pkts: string (nullable = true)\n |-- rxpdu_bytes: string (nullable = true)\n |-- rxpdu_sn: string (nullable = true)\n |-- rxpdu_oo_pkts: string (nullable = true)\n |-- rxpdu_oo_bytes: string (nullable = true)\n |-- rxpdu_dd_pkts: string (nullable = true)\n |-- rxpdu_dd_bytes: string (nullable = true)\n |-- rxpdu_ro_count: string (nullable = true)\n |-- txsdu_pkts: string (nullable = true)\n |-- txsdu_bytes: string (nullable = true)\n |-- rxsdu_pkts: string (nullable = true)\n |-- rxsdu_bytes: string (nullable = true)\n |-- rnti: string (nullable = true)\n |-- mode: string (nullable = true)\n |-- rbid: string (nullable = true)\n\n"
          ]
        }
      ],
      "execution_count": 26,
      "metadata": {
        "jupyter": {
          "source_hidden": false,
          "outputs_hidden": false
        },
        "nteract": {
          "transient": {
            "deleting": false
          }
        }
      }
    },
    {
      "cell_type": "code",
      "source": [
        "# PDU (Packet Data Unit) Transmission Metrics\r\n",
        "# These metrics track packets and bytes at the PDU layer, which is responsible for reliable transmission and reception of data.\r\n",
        "\r\n",
        "# txpdu_pkts (string): Number of transmitted PDUs (packets).\r\n",
        "# txpdu_bytes (string): Total bytes transmitted via PDUs.\r\n",
        "# txpdu_sn (string): Transmission PDU sequence number.\r\n",
        "# rxpdu_pkts (string): Number of received PDUs (packets).\r\n",
        "# rxpdu_bytes (string): Total bytes received via PDUs.\r\n",
        "# rxpdu_sn (string): Received PDU sequence number."
      ],
      "outputs": [
        {
          "output_type": "display_data",
          "data": {
            "application/vnd.livy.statement-meta+json": {
              "spark_pool": "sparkfv41bzh",
              "statement_id": 5,
              "statement_ids": [
                5
              ],
              "state": "finished",
              "livy_statement_state": "available",
              "spark_jobs": null,
              "session_id": "4",
              "normalized_state": "finished",
              "queued_time": "2025-02-02T10:40:01.3679888Z",
              "session_start_time": null,
              "execution_start_time": "2025-02-02T10:41:01.4020864Z",
              "execution_finish_time": "2025-02-02T10:41:01.5575716Z",
              "parent_msg_id": "7655adc2-f14b-4077-9ebc-15f94c871f52"
            },
            "text/plain": "StatementMeta(sparkfv41bzh, 4, 5, Finished, Available, Finished)"
          },
          "metadata": {}
        }
      ],
      "execution_count": 27,
      "metadata": {
        "jupyter": {
          "source_hidden": false,
          "outputs_hidden": false
        },
        "nteract": {
          "transient": {
            "deleting": false
          }
        }
      }
    },
    {
      "cell_type": "code",
      "source": [
        "# PDU Errors & Out-of-Order Packets\r\n",
        "# These fields monitor transmission errors and out-of-sequence packets.\r\n",
        "\r\n",
        "# rxpdu_oo_pkts (string): Count of out-of-order PDUs received.\r\n",
        "# rxpdu_oo_bytes (string): Bytes affected by out-of-order reception.\r\n",
        "# rxpdu_dd_pkts (string): Count of duplicate PDUs received.\r\n",
        "# rxpdu_dd_bytes (string): Bytes affected by duplicate reception.\r\n",
        "# rxpdu_ro_count (string): Count of retransmitted PDUs due to errors."
      ],
      "outputs": [
        {
          "output_type": "display_data",
          "data": {
            "application/vnd.livy.statement-meta+json": {
              "spark_pool": "sparkfv41bzh",
              "statement_id": 6,
              "statement_ids": [
                6
              ],
              "state": "finished",
              "livy_statement_state": "available",
              "spark_jobs": null,
              "session_id": "4",
              "normalized_state": "finished",
              "queued_time": "2025-02-02T10:40:01.4812635Z",
              "session_start_time": null,
              "execution_start_time": "2025-02-02T10:41:01.6776118Z",
              "execution_finish_time": "2025-02-02T10:41:01.8310157Z",
              "parent_msg_id": "245f33ed-ded0-4608-92a6-3e69894fdf0d"
            },
            "text/plain": "StatementMeta(sparkfv41bzh, 4, 6, Finished, Available, Finished)"
          },
          "metadata": {}
        }
      ],
      "execution_count": 28,
      "metadata": {
        "jupyter": {
          "source_hidden": false,
          "outputs_hidden": false
        },
        "nteract": {
          "transient": {
            "deleting": false
          }
        }
      }
    },
    {
      "cell_type": "code",
      "source": [
        "# SDU (Service Data Unit) Transmission Metrics\r\n",
        "# The SDU layer is the data payload from higher layers (e.g., user data, control messages).\r\n",
        "\r\n",
        "# txsdu_pkts (string): Number of transmitted SDUs (packets).\r\n",
        "# txsdu_bytes (string): Total bytes transmitted via SDUs.\r\n",
        "# rxsdu_pkts (string): Number of received SDUs (packets).\r\n",
        "# rxsdu_bytes (string): Total bytes received via SDUs."
      ],
      "outputs": [
        {
          "output_type": "display_data",
          "data": {
            "application/vnd.livy.statement-meta+json": {
              "spark_pool": "sparkfv41bzh",
              "statement_id": 7,
              "statement_ids": [
                7
              ],
              "state": "finished",
              "livy_statement_state": "available",
              "spark_jobs": null,
              "session_id": "4",
              "normalized_state": "finished",
              "queued_time": "2025-02-02T10:40:01.6381968Z",
              "session_start_time": null,
              "execution_start_time": "2025-02-02T10:41:01.951945Z",
              "execution_finish_time": "2025-02-02T10:41:02.1186883Z",
              "parent_msg_id": "0d32b663-a6bf-4cd4-b528-7f9da5dedab7"
            },
            "text/plain": "StatementMeta(sparkfv41bzh, 4, 7, Finished, Available, Finished)"
          },
          "metadata": {}
        }
      ],
      "execution_count": 29,
      "metadata": {
        "jupyter": {
          "source_hidden": false,
          "outputs_hidden": false
        },
        "nteract": {
          "transient": {
            "deleting": false
          }
        }
      }
    },
    {
      "cell_type": "code",
      "source": [
        "# Count per mode\r\n",
        "df.groupBy(\"mode\").count().orderBy(\"count\").show()\r\n"
      ],
      "outputs": [
        {
          "output_type": "display_data",
          "data": {
            "application/vnd.livy.statement-meta+json": {
              "spark_pool": "sparkfv41bzh",
              "statement_id": 8,
              "statement_ids": [
                8
              ],
              "state": "finished",
              "livy_statement_state": "available",
              "spark_jobs": null,
              "session_id": "4",
              "normalized_state": "finished",
              "queued_time": "2025-02-02T10:40:01.7535571Z",
              "session_start_time": null,
              "execution_start_time": "2025-02-02T10:41:02.2381866Z",
              "execution_finish_time": "2025-02-02T10:41:04.0302053Z",
              "parent_msg_id": "a66f7127-3432-40d4-9270-be892925c889"
            },
            "text/plain": "StatementMeta(sparkfv41bzh, 4, 8, Finished, Available, Finished)"
          },
          "metadata": {}
        },
        {
          "output_type": "stream",
          "name": "stdout",
          "text": [
            "+----+-----+\n|mode|count|\n+----+-----+\n|   2| 7568|\n|   0| 9927|\n|   1|11288|\n+----+-----+\n\n"
          ]
        }
      ],
      "execution_count": 30,
      "metadata": {
        "jupyter": {
          "source_hidden": false,
          "outputs_hidden": false
        },
        "nteract": {
          "transient": {
            "deleting": false
          }
        }
      }
    },
    {
      "cell_type": "code",
      "source": [
        "from pyspark.sql.functions import col\r\n",
        "\r\n",
        "# Convert relevant columns to numeric types\r\n",
        "df_num = df.withColumn(\"txpdu_pkts\", col(\"txpdu_pkts\").cast(\"int\")) \\\r\n",
        "       .withColumn(\"txpdu_bytes\", col(\"txpdu_bytes\").cast(\"int\")) \\\r\n",
        "       .withColumn(\"rxpdu_pkts\", col(\"rxpdu_pkts\").cast(\"int\")) \\\r\n",
        "       .withColumn(\"rxpdu_bytes\", col(\"rxpdu_bytes\").cast(\"int\")) \\\r\n",
        "       .withColumn(\"rxpdu_oo_pkts\", col(\"rxpdu_oo_pkts\").cast(\"int\")) \\\r\n",
        "       .withColumn(\"rxpdu_oo_bytes\", col(\"rxpdu_oo_bytes\").cast(\"int\")) \\\r\n",
        "       .withColumn(\"rxpdu_dd_pkts\", col(\"rxpdu_dd_pkts\").cast(\"int\")) \\\r\n",
        "       .withColumn(\"rxpdu_dd_bytes\", col(\"rxpdu_dd_bytes\").cast(\"int\")) \\\r\n",
        "       .withColumn(\"rxpdu_ro_count\", col(\"rxpdu_ro_count\").cast(\"int\")) \\\r\n",
        "       .withColumn(\"txsdu_pkts\", col(\"txsdu_pkts\").cast(\"int\")) \\\r\n",
        "       .withColumn(\"txsdu_bytes\", col(\"txsdu_bytes\").cast(\"int\")) \\\r\n",
        "       .withColumn(\"rxsdu_pkts\", col(\"rxsdu_pkts\").cast(\"int\")) \\\r\n",
        "       .withColumn(\"rxsdu_bytes\", col(\"rxsdu_bytes\").cast(\"int\")) \\\r\n",
        "       .withColumn(\"rnti\", col(\"rnti\").cast(\"int\")) \\\r\n",
        "       .withColumn(\"rbid\", col(\"rbid\").cast(\"int\"))\r\n"
      ],
      "outputs": [
        {
          "output_type": "display_data",
          "data": {
            "application/vnd.livy.statement-meta+json": {
              "spark_pool": "sparkfv41bzh",
              "statement_id": 9,
              "statement_ids": [
                9
              ],
              "state": "finished",
              "livy_statement_state": "available",
              "spark_jobs": null,
              "session_id": "4",
              "normalized_state": "finished",
              "queued_time": "2025-02-02T10:40:01.8947868Z",
              "session_start_time": null,
              "execution_start_time": "2025-02-02T10:41:04.1497287Z",
              "execution_finish_time": "2025-02-02T10:41:04.6810365Z",
              "parent_msg_id": "eef8785e-92f4-47c7-8858-277bb43f9464"
            },
            "text/plain": "StatementMeta(sparkfv41bzh, 4, 9, Finished, Available, Finished)"
          },
          "metadata": {}
        }
      ],
      "execution_count": 31,
      "metadata": {
        "jupyter": {
          "source_hidden": false,
          "outputs_hidden": false
        },
        "nteract": {
          "transient": {
            "deleting": false
          }
        }
      }
    },
    {
      "cell_type": "markdown",
      "source": [
        "## PROTOCOL DATA UNIT (PDU) -- Transmission Metrics"
      ],
      "metadata": {
        "nteract": {
          "transient": {
            "deleting": false
          }
        }
      }
    },
    {
      "cell_type": "code",
      "source": [
        "# PDU (Protocol Data Unit) Transmission Metrics\r\n",
        "# These metrics track packets and bytes at the PDU layer, which is responsible for reliable transmission and reception of data.\r\n",
        "\r\n",
        "# txpdu_pkts (string): Number of transmitted PDUs (packets).\r\n",
        "# txpdu_bytes (string): Total bytes transmitted via PDUs.\r\n",
        "# txpdu_sn (string): Transmission PDU sequence number.\r\n",
        "# rxpdu_pkts (string): Number of received PDUs (packets).\r\n",
        "# rxpdu_bytes (string): Total bytes received via PDUs.\r\n",
        "# rxpdu_sn (string): Received PDU sequence number."
      ],
      "outputs": [],
      "execution_count": null,
      "metadata": {
        "jupyter": {
          "source_hidden": false,
          "outputs_hidden": false
        },
        "nteract": {
          "transient": {
            "deleting": false
          }
        }
      }
    },
    {
      "cell_type": "code",
      "source": [
        "# PACKET DATA UNIT (PDU)\r\n",
        "df_num.selectExpr(\r\n",
        "    \"SUM(txpdu_pkts) as total_txpdu_pkts\",\r\n",
        "    \"SUM(rxpdu_pkts) as total_rxpdu_pkts\",\r\n",
        "    \"AVG(txpdu_bytes / txpdu_pkts) as avg_txpdu_size\",\r\n",
        "    \"AVG(rxpdu_bytes / rxpdu_pkts) as avg_rxpdu_size\",\r\n",
        "    \"MAX(txpdu_pkts) as max_txpdu_pkts\",\r\n",
        "    \"MAX(rxpdu_pkts) as max_rxpdu_pkts\",\r\n",
        "    \"MIN(txpdu_pkts) as min_txpdu_pkts\",\r\n",
        "    \"MIN(rxpdu_pkts) as min_rxpdu_pkts\"\r\n",
        ").show()\r\n"
      ],
      "outputs": [
        {
          "output_type": "display_data",
          "data": {
            "application/vnd.livy.statement-meta+json": {
              "spark_pool": "sparkfv41bzh",
              "statement_id": 10,
              "statement_ids": [
                10
              ],
              "state": "finished",
              "livy_statement_state": "available",
              "spark_jobs": null,
              "session_id": "4",
              "normalized_state": "finished",
              "queued_time": "2025-02-02T10:40:01.9522295Z",
              "session_start_time": null,
              "execution_start_time": "2025-02-02T10:41:04.7990429Z",
              "execution_finish_time": "2025-02-02T10:41:07.080029Z",
              "parent_msg_id": "bc067097-169c-463f-9c07-26cf8443ffc3"
            },
            "text/plain": "StatementMeta(sparkfv41bzh, 4, 10, Finished, Available, Finished)"
          },
          "metadata": {}
        },
        {
          "output_type": "stream",
          "name": "stdout",
          "text": [
            "+----------------+----------------+------------------+------------------+--------------+--------------+--------------+--------------+\n|total_txpdu_pkts|total_rxpdu_pkts|    avg_txpdu_size|    avg_rxpdu_size|max_txpdu_pkts|max_rxpdu_pkts|min_txpdu_pkts|min_rxpdu_pkts|\n+----------------+----------------+------------------+------------------+--------------+--------------+--------------+--------------+\n|         7723256|         5576796|2.2412151745046685|3.2322435748182303|           678|           560|            22|             1|\n+----------------+----------------+------------------+------------------+--------------+--------------+--------------+--------------+\n\n"
          ]
        }
      ],
      "execution_count": 32,
      "metadata": {
        "jupyter": {
          "source_hidden": false,
          "outputs_hidden": false
        },
        "nteract": {
          "transient": {
            "deleting": false
          }
        }
      }
    },
    {
      "cell_type": "markdown",
      "source": [
        "Total data being transmitted in packets = 7723256\r\n",
        "\r\n",
        "Total data being recieved in packets = 5576796\r\n",
        "\r\n",
        "Average size of transmitted/received packet = 2.2412151745046685 // 3.2322435748182303"
      ],
      "metadata": {
        "nteract": {
          "transient": {
            "deleting": false
          }
        }
      }
    },
    {
      "cell_type": "markdown",
      "source": [
        "## PDU Errors & Out-of-Order Packets"
      ],
      "metadata": {
        "nteract": {
          "transient": {
            "deleting": false
          }
        }
      }
    },
    {
      "cell_type": "code",
      "source": [
        "# PDU Errors & Out-of-Order Packets\r\n",
        "# These fields monitor transmission errors and out-of-sequence packets.\r\n",
        "\r\n",
        "# rxpdu_oo_pkts (string): Count of out-of-order PDUs received.\r\n",
        "# rxpdu_oo_bytes (string): Bytes affected by out-of-order reception.\r\n",
        "# rxpdu_dd_pkts (string): Count of duplicate PDUs received.\r\n",
        "# rxpdu_dd_bytes (string): Bytes affected by duplicate reception.\r\n",
        "# rxpdu_ro_count (string): Count of retransmitted PDUs due to errors."
      ],
      "outputs": [],
      "execution_count": null,
      "metadata": {
        "jupyter": {
          "source_hidden": false,
          "outputs_hidden": false
        },
        "nteract": {
          "transient": {
            "deleting": false
          }
        }
      }
    },
    {
      "cell_type": "code",
      "source": [
        "df_num.selectExpr(\r\n",
        "    \"SUM(rxpdu_oo_pkts) as total_out_of_order_pkts\",\r\n",
        "    \"SUM(rxpdu_dd_pkts) as total_duplicate_pkts\",\r\n",
        "    \"SUM(rxpdu_ro_count) as total_retransmitted_pkts\",\r\n",
        "    \"AVG(rxpdu_oo_pkts / rxpdu_pkts) as percent_out_of_order\",\r\n",
        "    \"AVG(rxpdu_dd_pkts / rxpdu_pkts) as percent_duplicate\"\r\n",
        ").show()\r\n"
      ],
      "outputs": [
        {
          "output_type": "display_data",
          "data": {
            "application/vnd.livy.statement-meta+json": {
              "spark_pool": "sparkfv41bzh",
              "statement_id": 11,
              "statement_ids": [
                11
              ],
              "state": "finished",
              "livy_statement_state": "available",
              "spark_jobs": null,
              "session_id": "4",
              "normalized_state": "finished",
              "queued_time": "2025-02-02T10:40:02.0464785Z",
              "session_start_time": null,
              "execution_start_time": "2025-02-02T10:41:07.1967947Z",
              "execution_finish_time": "2025-02-02T10:41:08.3228846Z",
              "parent_msg_id": "8ecaa96b-a65f-4f9a-a6a2-f0bcd3490e85"
            },
            "text/plain": "StatementMeta(sparkfv41bzh, 4, 11, Finished, Available, Finished)"
          },
          "metadata": {}
        },
        {
          "output_type": "stream",
          "name": "stdout",
          "text": [
            "+-----------------------+--------------------+------------------------+--------------------+------------------+\n|total_out_of_order_pkts|total_duplicate_pkts|total_retransmitted_pkts|percent_out_of_order| percent_duplicate|\n+-----------------------+--------------------+------------------------+--------------------+------------------+\n|               13690649|            14235951|                12343687|  23.765598309528144|25.394422846449938|\n+-----------------------+--------------------+------------------------+--------------------+------------------+\n\n"
          ]
        }
      ],
      "execution_count": 33,
      "metadata": {
        "jupyter": {
          "source_hidden": false,
          "outputs_hidden": false
        },
        "nteract": {
          "transient": {
            "deleting": false
          }
        }
      }
    },
    {
      "cell_type": "code",
      "source": [
        "import matplotlib.pyplot as plt\r\n",
        "import seaborn as sns\r\n",
        "\r\n",
        "result_df = df_num.selectExpr(\r\n",
        "\r\n",
        "    \"AVG(rxpdu_oo_pkts / rxpdu_pkts) as percent_out_of_order\",\r\n",
        "    \"AVG(rxpdu_dd_pkts / rxpdu_pkts) as percent_duplicate\"\r\n",
        ").toPandas()  \r\n",
        "\r\n",
        "result_df = result_df.T.reset_index()\r\n",
        "result_df.columns = [\"Metric\", \"Value\"]\r\n",
        "\r\n",
        "plt.figure(figsize=(10, 5))\r\n",
        "sns.barplot(x=\"Metric\", y=\"Value\", data=result_df, palette=\"coolwarm\")\r\n",
        "\r\n",
        "plt.xticks(rotation=20, ha=\"right\")\r\n",
        "\r\n",
        "plt.xlabel(\"Metric\")\r\n",
        "plt.ylabel(\"Value\")\r\n",
        "plt.title(\"Packet Transmission Errors and Duplication Metrics\")\r\n",
        "\r\n",
        "plt.show()\r\n"
      ],
      "outputs": [
        {
          "output_type": "display_data",
          "data": {
            "application/vnd.livy.statement-meta+json": {
              "spark_pool": "sparkfv41bzh",
              "statement_id": 12,
              "statement_ids": [
                12
              ],
              "state": "finished",
              "livy_statement_state": "available",
              "spark_jobs": null,
              "session_id": "4",
              "normalized_state": "finished",
              "queued_time": "2025-02-02T10:40:02.1314125Z",
              "session_start_time": null,
              "execution_start_time": "2025-02-02T10:41:08.4415944Z",
              "execution_finish_time": "2025-02-02T10:41:10.2782858Z",
              "parent_msg_id": "2db665fb-4ab2-48b4-8bf8-b52fd9b022c8"
            },
            "text/plain": "StatementMeta(sparkfv41bzh, 4, 12, Finished, Available, Finished)"
          },
          "metadata": {}
        },
        {
          "output_type": "stream",
          "name": "stderr",
          "text": [
            "/tmp/ipykernel_22377/2787073040.py:14: FutureWarning: \n\nPassing `palette` without assigning `hue` is deprecated and will be removed in v0.14.0. Assign the `x` variable to `hue` and set `legend=False` for the same effect.\n\n  sns.barplot(x=\"Metric\", y=\"Value\", data=result_df, palette=\"coolwarm\")\n"
          ]
        },
        {
          "output_type": "display_data",
          "data": {
            "text/plain": "<Figure size 1000x500 with 1 Axes>",
            "image/png": "[encoded data removed]"
          },
          "metadata": {}
        }
      ],
      "execution_count": 34,
      "metadata": {
        "jupyter": {
          "source_hidden": false,
          "outputs_hidden": false
        },
        "nteract": {
          "transient": {
            "deleting": false
          }
        }
      }
    },
    {
      "cell_type": "code",
      "source": [],
      "outputs": [],
      "execution_count": null,
      "metadata": {
        "jupyter": {
          "source_hidden": false,
          "outputs_hidden": false
        },
        "nteract": {
          "transient": {
            "deleting": false
          }
        }
      }
    },
    {
      "cell_type": "markdown",
      "source": [
        "## SDU (Service Data Unit) Transmission Metrics"
      ],
      "metadata": {
        "nteract": {
          "transient": {
            "deleting": false
          }
        }
      }
    },
    {
      "cell_type": "code",
      "source": [
        "# SDU (Service Data Unit) Transmission Metrics\r\n",
        "# The SDU layer is the data payload from higher layers (e.g., user data, control messages).\r\n",
        "\r\n",
        "# txsdu_pkts (string): Number of transmitted SDUs (packets).\r\n",
        "# txsdu_bytes (string): Total bytes transmitted via SDUs.\r\n",
        "# rxsdu_pkts (string): Number of received SDUs (packets).\r\n",
        "# rxsdu_bytes (string): Total bytes received via SDUs."
      ],
      "outputs": [],
      "execution_count": null,
      "metadata": {
        "jupyter": {
          "source_hidden": false,
          "outputs_hidden": false
        },
        "nteract": {
          "transient": {
            "deleting": false
          }
        }
      }
    },
    {
      "cell_type": "code",
      "source": [
        "df.selectExpr(\r\n",
        "    \"SUM(txsdu_pkts) as total_tx_sdu_pkts\",\r\n",
        "    \"SUM(rxsdu_pkts) as total_rx_sdu_pkts\",\r\n",
        "    \"AVG(txsdu_bytes / txsdu_pkts) as avg_tx_sdu_size\",\r\n",
        "    \"AVG(rxsdu_bytes / rxsdu_pkts) as avg_rx_sdu_size\"\r\n",
        ").show()\r\n"
      ],
      "outputs": [
        {
          "output_type": "display_data",
          "data": {
            "application/vnd.livy.statement-meta+json": {
              "spark_pool": "sparkfv41bzh",
              "statement_id": 13,
              "statement_ids": [
                13
              ],
              "state": "finished",
              "livy_statement_state": "available",
              "spark_jobs": null,
              "session_id": "4",
              "normalized_state": "finished",
              "queued_time": "2025-02-02T10:45:18.4204141Z",
              "session_start_time": null,
              "execution_start_time": "2025-02-02T10:45:18.5366209Z",
              "execution_finish_time": "2025-02-02T10:45:19.618268Z",
              "parent_msg_id": "ad540c24-c9bc-45b5-921c-0dd7c461cae4"
            },
            "text/plain": "StatementMeta(sparkfv41bzh, 4, 13, Finished, Available, Finished)"
          },
          "metadata": {}
        },
        {
          "output_type": "stream",
          "name": "stdout",
          "text": [
            "+-----------------+-----------------+-----------------+-----------------+\n|total_tx_sdu_pkts|total_rx_sdu_pkts|  avg_tx_sdu_size|  avg_rx_sdu_size|\n+-----------------+-----------------+-----------------+-----------------+\n|        5829881.0|        6821892.0|5.398630926751707|4.020215118675639|\n+-----------------+-----------------+-----------------+-----------------+\n\n"
          ]
        }
      ],
      "execution_count": 35,
      "metadata": {
        "jupyter": {
          "source_hidden": false,
          "outputs_hidden": false
        },
        "nteract": {
          "transient": {
            "deleting": false
          }
        }
      }
    },
    {
      "cell_type": "code",
      "source": [
        "result_df = df.selectExpr(\r\n",
        "    \"SUM(txpdu_pkts) as total_txpdu_pkts\",\r\n",
        "    \"SUM(txsdu_pkts) as total_tx_sdu_pkts\",\r\n",
        "\r\n",
        "    \"SUM(rxpdu_pkts) as total_rxpdu_pkts\",\r\n",
        "    \"SUM(rxsdu_pkts) as total_rx_sdu_pkts\",\r\n",
        ").toPandas()  \r\n",
        "\r\n",
        "result_df = result_df.T.reset_index()\r\n",
        "result_df.columns = [\"Metric\", \"Value\"]\r\n",
        "\r\n",
        "# Rename metrics for better readability\r\n",
        "rename_dict = {\r\n",
        "    \"total_txpdu_pkts\": \"Transmitted PDUs\",\r\n",
        "    \"total_tx_sdu_pkts\": \"Transmitted SDUs\",\r\n",
        "    \"total_rxpdu_pkts\": \"Received PDUs\",\r\n",
        "    \"total_rx_sdu_pkts\": \"Recevied SDUs\"\r\n",
        "}\r\n",
        "\r\n",
        "result_df[\"Metric\"] = result_df[\"Metric\"].replace(rename_dict)\r\n",
        "\r\n",
        "plt.figure(figsize=(10, 5))\r\n",
        "sns.barplot(x=\"Metric\", y=\"Value\", data=result_df, palette=\"coolwarm\")\r\n",
        "\r\n",
        "plt.xticks(rotation=20, ha=\"right\")\r\n",
        "\r\n",
        "plt.xlabel(\"Metric\")\r\n",
        "plt.ylabel(\"Value\")\r\n",
        "plt.title(\"PDUs // SDUs\")\r\n",
        "\r\n",
        "plt.show()"
      ],
      "outputs": [
        {
          "output_type": "display_data",
          "data": {
            "application/vnd.livy.statement-meta+json": {
              "spark_pool": "sparkfv41bzh",
              "statement_id": 21,
              "statement_ids": [
                21
              ],
              "state": "finished",
              "livy_statement_state": "available",
              "spark_jobs": null,
              "session_id": "4",
              "normalized_state": "finished",
              "queued_time": "2025-02-02T11:00:12.7034837Z",
              "session_start_time": null,
              "execution_start_time": "2025-02-02T11:00:12.8500631Z",
              "execution_finish_time": "2025-02-02T11:00:13.9484892Z",
              "parent_msg_id": "683f2397-39d1-4c6b-b40f-78e88ed0cc01"
            },
            "text/plain": "StatementMeta(sparkfv41bzh, 4, 21, Finished, Available, Finished)"
          },
          "metadata": {}
        },
        {
          "output_type": "stream",
          "name": "stderr",
          "text": [
            "/tmp/ipykernel_22377/2739799005.py:23: FutureWarning: \n\nPassing `palette` without assigning `hue` is deprecated and will be removed in v0.14.0. Assign the `x` variable to `hue` and set `legend=False` for the same effect.\n\n  sns.barplot(x=\"Metric\", y=\"Value\", data=result_df, palette=\"coolwarm\")\n"
          ]
        },
        {
          "output_type": "display_data",
          "data": {
            "text/plain": "<Figure size 1000x500 with 1 Axes>",
            "image/png": "[encoded data removed]"
          },
          "metadata": {}
        }
      ],
      "execution_count": 43,
      "metadata": {
        "jupyter": {
          "source_hidden": false,
          "outputs_hidden": false
        },
        "nteract": {
          "transient": {
            "deleting": false
          }
        }
      }
    },
    {
      "cell_type": "markdown",
      "source": [
        "## Radio Network analysis\r\n",
        "\r\n",
        "**Number of Unique Users (rnti)**<br>\r\n",
        "**Number of Bearers in Use (rbid)**"
      ],
      "metadata": {
        "nteract": {
          "transient": {
            "deleting": false
          }
        }
      }
    },
    {
      "cell_type": "code",
      "source": [
        "from pyspark.sql.functions import countDistinct\r\n",
        "\r\n",
        "# Unique Users\r\n",
        "df.select(countDistinct(\"rnti\").alias(\"num_unique_users\")).show()\r\n",
        "\r\n",
        "# unique RBIDs (Radio Bearers)\r\n",
        "df.select(countDistinct(\"rbid\").alias(\"num_unique_bearers\")).show()\r\n",
        "\r\n",
        "# Top 5 most active users (highest transmitted SDUs)\r\n",
        "df_num.groupBy(\"rnti\").sum(\"txsdu_pkts\").orderBy(col(\"sum(txsdu_pkts)\").desc()).limit(5).show()\r\n"
      ],
      "outputs": [
        {
          "output_type": "display_data",
          "data": {
            "application/vnd.livy.statement-meta+json": {
              "spark_pool": "sparkfv41bzh",
              "statement_id": 25,
              "statement_ids": [
                25
              ],
              "state": "finished",
              "livy_statement_state": "available",
              "spark_jobs": null,
              "session_id": "4",
              "normalized_state": "finished",
              "queued_time": "2025-02-02T11:04:54.9830785Z",
              "session_start_time": null,
              "execution_start_time": "2025-02-02T11:04:55.0834904Z",
              "execution_finish_time": "2025-02-02T11:04:56.8824554Z",
              "parent_msg_id": "f62e0709-0c3b-4d78-8a0a-18a378627bcd"
            },
            "text/plain": "StatementMeta(sparkfv41bzh, 4, 25, Finished, Available, Finished)"
          },
          "metadata": {}
        },
        {
          "output_type": "stream",
          "name": "stdout",
          "text": [
            "+----------------+\n|num_unique_users|\n+----------------+\n|              33|\n+----------------+\n\n+------------------+\n|num_unique_bearers|\n+------------------+\n|                11|\n+------------------+\n\n+----+---------------+\n|rnti|sum(txsdu_pkts)|\n+----+---------------+\n| 712|         706000|\n| 276|         609000|\n| 342|         450822|\n| 926|         389207|\n| 388|         382743|\n+----+---------------+\n\n"
          ]
        }
      ],
      "execution_count": 47,
      "metadata": {
        "jupyter": {
          "source_hidden": false,
          "outputs_hidden": false
        },
        "nteract": {
          "transient": {
            "deleting": false
          }
        }
      }
    },
    {
      "cell_type": "code",
      "source": [
        "m_act=df_num.groupBy(\"rnti\").sum(\"txsdu_pkts\").orderBy(col(\"sum(txsdu_pkts)\").desc()).limit(5)\r\n",
        "\r\n",
        "m_act=m_act.toPandas()  \r\n",
        "\r\n",
        "# m_act = m_act.T.reset_index()\r\n",
        "m_act.columns = [\"rnti\", \"SDUs transmitted\"]\r\n",
        "\r\n",
        "plt.figure(figsize=(10, 5))\r\n",
        "sns.barplot(x=\"rnti\", y=\"SDUs transmitted\", data=m_act, palette=\"coolwarm\")\r\n",
        "\r\n",
        "# Annotating each point with its count value\r\n",
        "# for i, row in m_act.iterrows():\r\n",
        "#     plt.text(row[\"rnti\"], row[\"SDUs transmitted\"], str(row[\"SDUs transmitted\"]), fontsize=9, ha='right', color='blue')\r\n",
        "\r\n",
        "\r\n",
        "plt.xticks(rotation=20, ha=\"right\")\r\n",
        "\r\n",
        "plt.xlabel(\"rnti\")\r\n",
        "plt.ylabel(\"SDUs transmitted\")\r\n",
        "plt.title(\"Most active users\")\r\n",
        "\r\n",
        "plt.show()"
      ],
      "outputs": [
        {
          "output_type": "display_data",
          "data": {
            "application/vnd.livy.statement-meta+json": {
              "spark_pool": "sparkfv41bzh",
              "statement_id": 41,
              "statement_ids": [
                41
              ],
              "state": "finished",
              "livy_statement_state": "available",
              "spark_jobs": null,
              "session_id": "4",
              "normalized_state": "finished",
              "queued_time": "2025-02-02T11:17:14.8387843Z",
              "session_start_time": null,
              "execution_start_time": "2025-02-02T11:17:14.9419105Z",
              "execution_finish_time": "2025-02-02T11:17:15.4839028Z",
              "parent_msg_id": "1de47b46-1d7a-4550-9154-1d040cc6e3c0"
            },
            "text/plain": "StatementMeta(sparkfv41bzh, 4, 41, Finished, Available, Finished)"
          },
          "metadata": {}
        },
        {
          "output_type": "stream",
          "name": "stderr",
          "text": [
            "/tmp/ipykernel_22377/2215007166.py:9: FutureWarning: \n\nPassing `palette` without assigning `hue` is deprecated and will be removed in v0.14.0. Assign the `x` variable to `hue` and set `legend=False` for the same effect.\n\n  sns.barplot(x=\"rnti\", y=\"SDUs transmitted\", data=m_act, palette=\"coolwarm\")\n"
          ]
        },
        {
          "output_type": "display_data",
          "data": {
            "text/plain": "<Figure size 1000x500 with 1 Axes>",
            "image/png": "[encoded data removed]"
          },
          "metadata": {}
        }
      ],
      "execution_count": 63,
      "metadata": {
        "jupyter": {
          "source_hidden": false,
          "outputs_hidden": false
        },
        "nteract": {
          "transient": {
            "deleting": false
          }
        }
      }
    },
    {
      "cell_type": "code",
      "source": [
        "# Compute correlation between retransmissions and errors\r\n",
        "correlations = df_num.stat.corr(\"rxpdu_ro_count\", \"rxpdu_oo_pkts\")\r\n",
        "print(f\"Correlation between retransmissions and out-of-order packets: {correlations}\")\r\n",
        "\r\n",
        "# Compute correlation between SDU size and retransmission count\r\n",
        "correlations2 = df_num.stat.corr(\"txsdu_bytes\", \"rxpdu_ro_count\")\r\n",
        "print(f\"Correlation between SDU size and retransmissions: {correlations2}\")\r\n"
      ],
      "outputs": [
        {
          "output_type": "display_data",
          "data": {
            "application/vnd.livy.statement-meta+json": {
              "spark_pool": "sparkfv41bzh",
              "statement_id": 43,
              "statement_ids": [
                43
              ],
              "state": "finished",
              "livy_statement_state": "available",
              "spark_jobs": null,
              "session_id": "4",
              "normalized_state": "finished",
              "queued_time": "2025-02-02T11:18:21.9948512Z",
              "session_start_time": null,
              "execution_start_time": "2025-02-02T11:18:22.1019074Z",
              "execution_finish_time": "2025-02-02T11:18:23.1790019Z",
              "parent_msg_id": "6d9816cd-e198-4525-9b54-59320615dff2"
            },
            "text/plain": "StatementMeta(sparkfv41bzh, 4, 43, Finished, Available, Finished)"
          },
          "metadata": {}
        },
        {
          "output_type": "stream",
          "name": "stdout",
          "text": [
            "Correlation between retransmissions and out-of-order packets: 0.3069725887438913\nCorrelation between SDU size and retransmissions: -0.10497871040301827\n"
          ]
        }
      ],
      "execution_count": 65,
      "metadata": {
        "jupyter": {
          "source_hidden": false,
          "outputs_hidden": false
        },
        "nteract": {
          "transient": {
            "deleting": false
          }
        }
      }
    },
    {
      "cell_type": "markdown",
      "source": [
        "This suggests that as out-of-order packets increase, the number of retransmissions also tends to increase.<br>\r\n",
        "A positive correlation of 0.31 is not very strong but indicates some level of dependency"
      ],
      "metadata": {
        "nteract": {
          "transient": {
            "deleting": false
          }
        }
      }
    },
    {
      "cell_type": "code",
      "source": [],
      "outputs": [],
      "execution_count": null,
      "metadata": {
        "jupyter": {
          "source_hidden": false,
          "outputs_hidden": false
        },
        "nteract": {
          "transient": {
            "deleting": false
          }
        }
      }
    },
    {
      "cell_type": "code",
      "source": [],
      "outputs": [],
      "execution_count": null,
      "metadata": {
        "jupyter": {
          "source_hidden": false,
          "outputs_hidden": false
        },
        "nteract": {
          "transient": {
            "deleting": false
          }
        }
      }
    }
  ],
  "metadata": {
    "language_info": {
      "name": "python"
    },
    "kernelspec": {
      "name": "synapse_pyspark",
      "language": "Python",
      "display_name": "Synapse PySpark"
    },
    "kernel_info": {
      "name": "synapse_pyspark"
    },
    "description": null,
    "save_output": true,
    "synapse_widget": {
      "version": "0.1",
      "state": {
        "ce8d0201-44c8-44f4-bc09-c16b5fddadaf": {
          "type": "Synapse.DataFrame",
          "sync_state": {
            "table": {
              "rows": [
                {
                  "0": "1738422076388563",
                  "1": "2",
                  "2": "505",
                  "3": "1",
                  "4": "2",
                  "5": "1",
                  "6": "(null)",
                  "7": "442",
                  "8": "452",
                  "9": "731",
                  "10": "64",
                  "11": "680",
                  "12": "642",
                  "13": "158",
                  "14": "554",
                  "15": "159",
                  "16": "586",
                  "17": "52",
                  "18": "637",
                  "19": "854",
                  "20": "701",
                  "21": "742",
                  "22": "926",
                  "23": "0",
                  "24": "5"
                },
                {
                  "0": "1738422076388563",
                  "1": "2",
                  "2": "505",
                  "3": "1",
                  "4": "2",
                  "5": "1",
                  "6": "(null)",
                  "7": "389",
                  "8": "463",
                  "9": "685",
                  "10": "560",
                  "11": "626",
                  "12": "890",
                  "13": "139",
                  "14": "136",
                  "15": "708",
                  "16": "707",
                  "17": "928",
                  "18": "41",
                  "19": "214",
                  "20": "7",
                  "21": "356",
                  "22": "514",
                  "23": "2",
                  "24": "5"
                },
                {
                  "0": "1738422076388563",
                  "1": "2",
                  "2": "505",
                  "3": "1",
                  "4": "2",
                  "5": "1",
                  "6": "(null)",
                  "7": "71",
                  "8": "133",
                  "9": "635",
                  "10": "155",
                  "11": "292",
                  "12": "687",
                  "13": "122",
                  "14": "294",
                  "15": "405",
                  "16": "509",
                  "17": "196",
                  "18": "27",
                  "19": "207",
                  "20": "254",
                  "21": "659",
                  "22": "578",
                  "23": "1",
                  "24": "4"
                },
                {
                  "0": "1738422076388563",
                  "1": "2",
                  "2": "505",
                  "3": "1",
                  "4": "2",
                  "5": "1",
                  "6": "(null)",
                  "7": "363",
                  "8": "444",
                  "9": "811",
                  "10": "44",
                  "11": "128",
                  "12": "716",
                  "13": "343",
                  "14": "891",
                  "15": "48",
                  "16": "576",
                  "17": "381",
                  "18": "28",
                  "19": "61",
                  "20": "178",
                  "21": "514",
                  "22": "268",
                  "23": "1",
                  "24": "4"
                },
                {
                  "0": "1738422076390103",
                  "1": "2",
                  "2": "505",
                  "3": "1",
                  "4": "2",
                  "5": "1",
                  "6": "(null)",
                  "7": "442",
                  "8": "452",
                  "9": "731",
                  "10": "64",
                  "11": "680",
                  "12": "642",
                  "13": "158",
                  "14": "554",
                  "15": "159",
                  "16": "586",
                  "17": "52",
                  "18": "637",
                  "19": "854",
                  "20": "701",
                  "21": "742",
                  "22": "926",
                  "23": "0",
                  "24": "5"
                },
                {
                  "0": "1738422076390103",
                  "1": "2",
                  "2": "505",
                  "3": "1",
                  "4": "2",
                  "5": "1",
                  "6": "(null)",
                  "7": "389",
                  "8": "463",
                  "9": "685",
                  "10": "560",
                  "11": "626",
                  "12": "890",
                  "13": "139",
                  "14": "136",
                  "15": "708",
                  "16": "707",
                  "17": "928",
                  "18": "41",
                  "19": "214",
                  "20": "7",
                  "21": "356",
                  "22": "514",
                  "23": "2",
                  "24": "5"
                },
                {
                  "0": "1738422076390103",
                  "1": "2",
                  "2": "505",
                  "3": "1",
                  "4": "2",
                  "5": "1",
                  "6": "(null)",
                  "7": "71",
                  "8": "133",
                  "9": "635",
                  "10": "155",
                  "11": "292",
                  "12": "687",
                  "13": "122",
                  "14": "294",
                  "15": "405",
                  "16": "509",
                  "17": "196",
                  "18": "27",
                  "19": "207",
                  "20": "254",
                  "21": "659",
                  "22": "578",
                  "23": "1",
                  "24": "4"
                },
                {
                  "0": "1738422076390103",
                  "1": "2",
                  "2": "505",
                  "3": "1",
                  "4": "2",
                  "5": "1",
                  "6": "(null)",
                  "7": "363",
                  "8": "444",
                  "9": "811",
                  "10": "44",
                  "11": "128",
                  "12": "716",
                  "13": "343",
                  "14": "891",
                  "15": "48",
                  "16": "576",
                  "17": "381",
                  "18": "28",
                  "19": "61",
                  "20": "178",
                  "21": "514",
                  "22": "268",
                  "23": "1",
                  "24": "4"
                },
                {
                  "0": "1738422076392582",
                  "1": "2",
                  "2": "505",
                  "3": "1",
                  "4": "2",
                  "5": "1",
                  "6": "(null)",
                  "7": "442",
                  "8": "452",
                  "9": "731",
                  "10": "64",
                  "11": "680",
                  "12": "642",
                  "13": "158",
                  "14": "554",
                  "15": "159",
                  "16": "586",
                  "17": "52",
                  "18": "637",
                  "19": "854",
                  "20": "701",
                  "21": "742",
                  "22": "926",
                  "23": "0",
                  "24": "5"
                },
                {
                  "0": "1738422076392582",
                  "1": "2",
                  "2": "505",
                  "3": "1",
                  "4": "2",
                  "5": "1",
                  "6": "(null)",
                  "7": "389",
                  "8": "463",
                  "9": "685",
                  "10": "560",
                  "11": "626",
                  "12": "890",
                  "13": "139",
                  "14": "136",
                  "15": "708",
                  "16": "707",
                  "17": "928",
                  "18": "41",
                  "19": "214",
                  "20": "7",
                  "21": "356",
                  "22": "514",
                  "23": "2",
                  "24": "5"
                }
              ],
              "schema": [
                {
                  "key": "0",
                  "name": "tstamp",
                  "type": "string"
                },
                {
                  "key": "1",
                  "name": "ngran_node",
                  "type": "string"
                },
                {
                  "key": "2",
                  "name": "mcc",
                  "type": "string"
                },
                {
                  "key": "3",
                  "name": "mnc",
                  "type": "string"
                },
                {
                  "key": "4",
                  "name": "mnc_digit_len",
                  "type": "string"
                },
                {
                  "key": "5",
                  "name": "nb_id",
                  "type": "string"
                },
                {
                  "key": "6",
                  "name": "cu_du_id",
                  "type": "string"
                },
                {
                  "key": "7",
                  "name": "txpdu_pkts",
                  "type": "string"
                },
                {
                  "key": "8",
                  "name": "txpdu_bytes",
                  "type": "string"
                },
                {
                  "key": "9",
                  "name": "txpdu_sn",
                  "type": "string"
                },
                {
                  "key": "10",
                  "name": "rxpdu_pkts",
                  "type": "string"
                },
                {
                  "key": "11",
                  "name": "rxpdu_bytes",
                  "type": "string"
                },
                {
                  "key": "12",
                  "name": "rxpdu_sn",
                  "type": "string"
                },
                {
                  "key": "13",
                  "name": "rxpdu_oo_pkts",
                  "type": "string"
                },
                {
                  "key": "14",
                  "name": "rxpdu_oo_bytes",
                  "type": "string"
                },
                {
                  "key": "15",
                  "name": "rxpdu_dd_pkts",
                  "type": "string"
                },
                {
                  "key": "16",
                  "name": "rxpdu_dd_bytes",
                  "type": "string"
                },
                {
                  "key": "17",
                  "name": "rxpdu_ro_count",
                  "type": "string"
                },
                {
                  "key": "18",
                  "name": "txsdu_pkts",
                  "type": "string"
                },
                {
                  "key": "19",
                  "name": "txsdu_bytes",
                  "type": "string"
                },
                {
                  "key": "20",
                  "name": "rxsdu_pkts",
                  "type": "string"
                },
                {
                  "key": "21",
                  "name": "rxsdu_bytes",
                  "type": "string"
                },
                {
                  "key": "22",
                  "name": "rnti",
                  "type": "string"
                },
                {
                  "key": "23",
                  "name": "mode",
                  "type": "string"
                },
                {
                  "key": "24",
                  "name": "rbid",
                  "type": "string"
                }
              ],
              "truncated": false
            },
            "isSummary": false,
            "language": "scala",
            "wranglerEntryContext": {
              "dataframeType": "pyspark"
            }
          },
          "persist_state": {
            "view": {
              "type": "details",
              "tableOptions": {},
              "chartOptions": {
                "chartType": "bar",
                "aggregationType": "count",
                "categoryFieldKeys": [
                  "0"
                ],
                "seriesFieldKeys": [
                  "0"
                ],
                "isStacked": false
              }
            }
          }
        }
      }
    }
  },
  "nbformat": 4,
  "nbformat_minor": 2
}