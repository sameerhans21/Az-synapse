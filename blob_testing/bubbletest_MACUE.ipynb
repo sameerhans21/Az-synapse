{
  "cells": [
    {
      "cell_type": "code",
      "source": [
        "%%pyspark\r\n",
        "df = spark.read.load('abfss://files@datalakefv41bzh.dfs.core.windows.net/data/MAC_UE.csv', format='csv'\r\n",
        "## If header exists uncomment line below\r\n",
        ", header=True\r\n",
        ")\r\n",
        "display(df.limit(10))"
      ],
      "outputs": [
        {
          "output_type": "display_data",
          "data": {
            "application/vnd.livy.statement-meta+json": {
              "spark_pool": "sparkfv41bzh",
              "statement_id": 121,
              "statement_ids": [
                121
              ],
              "state": "finished",
              "livy_statement_state": "available",
              "spark_jobs": null,
              "session_id": "1",
              "normalized_state": "finished",
              "queued_time": "2025-02-01T21:15:53.8463682Z",
              "session_start_time": null,
              "execution_start_time": "2025-02-01T21:15:53.9799761Z",
              "execution_finish_time": "2025-02-01T21:15:56.7807503Z",
              "parent_msg_id": "f82e93dc-2af0-4e8e-8e67-36e3cfdb2d1c"
            },
            "text/plain": "StatementMeta(sparkfv41bzh, 1, 121, Finished, Available, Finished)"
          },
          "metadata": {}
        },
        {
          "output_type": "display_data",
          "data": {
            "application/vnd.synapse.widget-view+json": {
              "widget_id": "de43a64e-8291-4102-b752-a9aecad11b57",
              "widget_type": "Synapse.DataFrame"
            },
            "text/plain": "SynapseWidget(Synapse.DataFrame, de43a64e-8291-4102-b752-a9aecad11b57)"
          },
          "metadata": {}
        }
      ],
      "execution_count": 125,
      "metadata": {
        "microsoft": {
          "language": "python"
        },
        "collapsed": false
      }
    },
    {
      "cell_type": "code",
      "source": [
        "df.printSchema()\r\n"
      ],
      "outputs": [
        {
          "output_type": "display_data",
          "data": {
            "application/vnd.livy.statement-meta+json": {
              "spark_pool": "sparkfv41bzh",
              "statement_id": 122,
              "statement_ids": [
                122
              ],
              "state": "finished",
              "livy_statement_state": "available",
              "spark_jobs": null,
              "session_id": "1",
              "normalized_state": "finished",
              "queued_time": "2025-02-01T21:16:15.8344889Z",
              "session_start_time": null,
              "execution_start_time": "2025-02-01T21:16:15.9417255Z",
              "execution_finish_time": "2025-02-01T21:16:16.0935152Z",
              "parent_msg_id": "f511c184-d7fd-433f-a13c-1db6930fd5e6"
            },
            "text/plain": "StatementMeta(sparkfv41bzh, 1, 122, Finished, Available, Finished)"
          },
          "metadata": {}
        },
        {
          "output_type": "stream",
          "name": "stdout",
          "text": [
            "root\n |-- tstamp: string (nullable = true)\n |-- ngran_node: string (nullable = true)\n |-- mcc: string (nullable = true)\n |-- mnc: string (nullable = true)\n |-- mnc_digit_len: string (nullable = true)\n |-- nb_id: string (nullable = true)\n |-- cu_du_id: string (nullable = true)\n |-- frame: string (nullable = true)\n |-- slot: string (nullable = true)\n |-- dl_aggr_tbs: string (nullable = true)\n |-- ul_aggr_tbs: string (nullable = true)\n |-- dl_aggr_bytes_sdus: string (nullable = true)\n |-- ul_aggr_bytes_sdus: string (nullable = true)\n |-- dl_curr_tbs: string (nullable = true)\n |-- ul_curr_tbs: string (nullable = true)\n |-- dl_sched_rb: string (nullable = true)\n |-- ul_sched_rb: string (nullable = true)\n |-- pusch_snr: string (nullable = true)\n |-- pucch_snr: string (nullable = true)\n |-- rnti: string (nullable = true)\n |-- dl_aggr_prb: string (nullable = true)\n |-- ul_aggr_prb: string (nullable = true)\n |-- dl_aggr_sdus: string (nullable = true)\n |-- ul_aggr_sdus: string (nullable = true)\n |-- dl_aggr_retx_prb: string (nullable = true)\n |-- ul_aggr_retx_prb: string (nullable = true)\n |-- wb_cqi: string (nullable = true)\n |-- dl_mcs1: string (nullable = true)\n |-- ul_mcs1: string (nullable = true)\n |-- dl_mcs2: string (nullable = true)\n |-- ul_mcs2: string (nullable = true)\n |-- phr: string (nullable = true)\n |-- bsr: string (nullable = true)\n |-- dl_bler: string (nullable = true)\n |-- ul_bler: string (nullable = true)\n |-- dl_num_harq: string (nullable = true)\n |-- dl_harq_round0: string (nullable = true)\n |-- dl_harq_round1: string (nullable = true)\n |-- dl_harq_round2: string (nullable = true)\n |-- dl_harq_round3: string (nullable = true)\n |-- dlsch_errors: string (nullable = true)\n |-- ul_num_harq: string (nullable = true)\n |-- ul_harq_round0: string (nullable = true)\n |-- ul_harq_round1: string (nullable = true)\n |-- ul_harq_round2: string (nullable = true)\n |-- ul_harq_round3: string (nullable = true)\n |-- ulsch_errors: string (nullable = true)\n\n"
          ]
        }
      ],
      "execution_count": 126,
      "metadata": {
        "jupyter": {
          "source_hidden": false,
          "outputs_hidden": false
        },
        "nteract": {
          "transient": {
            "deleting": false
          }
        }
      }
    },
    {
      "cell_type": "code",
      "source": [
        "df.count()\r\n"
      ],
      "outputs": [
        {
          "output_type": "display_data",
          "data": {
            "application/vnd.livy.statement-meta+json": {
              "spark_pool": "sparkfv41bzh",
              "statement_id": 123,
              "statement_ids": [
                123
              ],
              "state": "finished",
              "livy_statement_state": "available",
              "spark_jobs": null,
              "session_id": "1",
              "normalized_state": "finished",
              "queued_time": "2025-02-01T21:17:35.1259762Z",
              "session_start_time": null,
              "execution_start_time": "2025-02-01T21:17:35.2449356Z",
              "execution_finish_time": "2025-02-01T21:17:35.7890493Z",
              "parent_msg_id": "f72d7f3b-8f24-4806-8016-624233c0bc35"
            },
            "text/plain": "StatementMeta(sparkfv41bzh, 1, 123, Finished, Available, Finished)"
          },
          "metadata": {}
        },
        {
          "output_type": "execute_result",
          "execution_count": 247,
          "data": {
            "text/plain": "20321"
          },
          "metadata": {}
        }
      ],
      "execution_count": 127,
      "metadata": {
        "jupyter": {
          "source_hidden": false,
          "outputs_hidden": false
        },
        "nteract": {
          "transient": {
            "deleting": false
          }
        }
      }
    },
    {
      "cell_type": "code",
      "source": [
        "df.schema"
      ],
      "outputs": [
        {
          "output_type": "display_data",
          "data": {
            "application/vnd.livy.statement-meta+json": {
              "spark_pool": "sparkfv41bzh",
              "statement_id": 124,
              "statement_ids": [
                124
              ],
              "state": "finished",
              "livy_statement_state": "available",
              "spark_jobs": null,
              "session_id": "1",
              "normalized_state": "finished",
              "queued_time": "2025-02-01T21:18:19.6298857Z",
              "session_start_time": null,
              "execution_start_time": "2025-02-01T21:18:19.7374354Z",
              "execution_finish_time": "2025-02-01T21:18:19.8867468Z",
              "parent_msg_id": "d40da497-1e52-4ea6-814d-c4138181351d"
            },
            "text/plain": "StatementMeta(sparkfv41bzh, 1, 124, Finished, Available, Finished)"
          },
          "metadata": {}
        },
        {
          "output_type": "execute_result",
          "execution_count": 249,
          "data": {
            "text/plain": "StructType([StructField('tstamp', StringType(), True), StructField('ngran_node', StringType(), True), StructField('mcc', StringType(), True), StructField('mnc', StringType(), True), StructField('mnc_digit_len', StringType(), True), StructField('nb_id', StringType(), True), StructField('cu_du_id', StringType(), True), StructField('frame', StringType(), True), StructField('slot', StringType(), True), StructField('dl_aggr_tbs', StringType(), True), StructField('ul_aggr_tbs', StringType(), True), StructField('dl_aggr_bytes_sdus', StringType(), True), StructField('ul_aggr_bytes_sdus', StringType(), True), StructField('dl_curr_tbs', StringType(), True), StructField('ul_curr_tbs', StringType(), True), StructField('dl_sched_rb', StringType(), True), StructField('ul_sched_rb', StringType(), True), StructField('pusch_snr', StringType(), True), StructField('pucch_snr', StringType(), True), StructField('rnti', StringType(), True), StructField('dl_aggr_prb', StringType(), True), StructField('ul_aggr_prb', StringType(), True), StructField('dl_aggr_sdus', StringType(), True), StructField('ul_aggr_sdus', StringType(), True), StructField('dl_aggr_retx_prb', StringType(), True), StructField('ul_aggr_retx_prb', StringType(), True), StructField('wb_cqi', StringType(), True), StructField('dl_mcs1', StringType(), True), StructField('ul_mcs1', StringType(), True), StructField('dl_mcs2', StringType(), True), StructField('ul_mcs2', StringType(), True), StructField('phr', StringType(), True), StructField('bsr', StringType(), True), StructField('dl_bler', StringType(), True), StructField('ul_bler', StringType(), True), StructField('dl_num_harq', StringType(), True), StructField('dl_harq_round0', StringType(), True), StructField('dl_harq_round1', StringType(), True), StructField('dl_harq_round2', StringType(), True), StructField('dl_harq_round3', StringType(), True), StructField('dlsch_errors', StringType(), True), StructField('ul_num_harq', StringType(), True), StructField('ul_harq_round0', StringType(), True), StructField('ul_harq_round1', StringType(), True), StructField('ul_harq_round2', StringType(), True), StructField('ul_harq_round3', StringType(), True), StructField('ulsch_errors', StringType(), True)])"
          },
          "metadata": {}
        }
      ],
      "execution_count": 128,
      "metadata": {
        "jupyter": {
          "source_hidden": false,
          "outputs_hidden": false
        },
        "nteract": {
          "transient": {
            "deleting": false
          }
        }
      }
    },
    {
      "cell_type": "code",
      "source": [
        "# df.describe().show()"
      ],
      "outputs": [
        {
          "output_type": "display_data",
          "data": {
            "application/vnd.livy.statement-meta+json": {
              "spark_pool": "sparkfv41bzh",
              "statement_id": 126,
              "statement_ids": [
                126
              ],
              "state": "finished",
              "livy_statement_state": "available",
              "spark_jobs": null,
              "session_id": "1",
              "normalized_state": "finished",
              "queued_time": "2025-02-01T21:18:45.8797754Z",
              "session_start_time": null,
              "execution_start_time": "2025-02-01T21:18:45.9896837Z",
              "execution_finish_time": "2025-02-01T21:18:46.1358835Z",
              "parent_msg_id": "e6acef88-18b3-44ff-936d-1886bd7eccb0"
            },
            "text/plain": "StatementMeta(sparkfv41bzh, 1, 126, Finished, Available, Finished)"
          },
          "metadata": {}
        }
      ],
      "execution_count": 130,
      "metadata": {
        "jupyter": {
          "source_hidden": false,
          "outputs_hidden": false
        },
        "nteract": {
          "transient": {
            "deleting": false
          }
        }
      }
    },
    {
      "cell_type": "code",
      "source": [
        "# Convert relevant columns to numeric if they are not already\r\n",
        "from pyspark.sql.functions import col\r\n",
        "\r\n",
        "# Select columns and cast to numeric\r\n",
        "df_numeric = df.select(\r\n",
        "    col(\"ngran_node\").cast(\"double\").alias(\"ngran_node\"),\r\n",
        "    col(\"dl_aggr_tbs\").cast(\"double\").alias(\"dl_aggr_tbs\"),\r\n",
        "    col(\"ul_aggr_tbs\").cast(\"double\").alias(\"ul_aggr_tbs\"),\r\n",
        "    col(\"dl_aggr_bytes_sdus\").cast(\"double\").alias(\"dl_aggr_bytes_sdus\"),\r\n",
        "    col(\"ul_aggr_bytes_sdus\").cast(\"double\").alias(\"ul_aggr_bytes_sdus\"),\r\n",
        "    col(\"pusch_snr\").cast(\"double\").alias(\"pusch_snr\"),\r\n",
        "    col(\"pucch_snr\").cast(\"double\").alias(\"pucch_snr\"),\r\n",
        "    col(\"rnti\").cast(\"double\").alias(\"rnti\"),\r\n",
        "    col(\"dl_bler\").cast(\"double\").alias(\"dl_bler\"),\r\n",
        "    col(\"ul_bler\").cast(\"double\").alias(\"ul_bler\")\r\n",
        ")\r\n",
        "\r\n",
        "# Show summary statistics\r\n",
        "df_numeric.describe().show()\r\n"
      ],
      "outputs": [
        {
          "output_type": "display_data",
          "data": {
            "application/vnd.livy.statement-meta+json": {
              "spark_pool": "sparkfv41bzh",
              "statement_id": 137,
              "statement_ids": [
                137
              ],
              "state": "finished",
              "livy_statement_state": "available",
              "spark_jobs": null,
              "session_id": "1",
              "normalized_state": "finished",
              "queued_time": "2025-02-01T21:32:00.8389663Z",
              "session_start_time": null,
              "execution_start_time": "2025-02-01T21:32:00.9452107Z",
              "execution_finish_time": "2025-02-01T21:32:02.0157024Z",
              "parent_msg_id": "f5e17f1c-2cee-4adf-992f-a35bad52d42b"
            },
            "text/plain": "StatementMeta(sparkfv41bzh, 1, 137, Finished, Available, Finished)"
          },
          "metadata": {}
        },
        {
          "output_type": "stream",
          "name": "stdout",
          "text": [
            "+-------+----------+------------------+------------------+------------------+------------------+---------+---------+------------------+-------+-------+\n|summary|ngran_node|       dl_aggr_tbs|       ul_aggr_tbs|dl_aggr_bytes_sdus|ul_aggr_bytes_sdus|pusch_snr|pucch_snr|              rnti|dl_bler|ul_bler|\n+-------+----------+------------------+------------------+------------------+------------------+---------+---------+------------------+-------+-------+\n|  count|     20321|             20321|             20321|             20321|             20321|    20321|    20321|             20321|  20321|  20321|\n|   mean|       2.0|393.62098321932973| 488.4878696914522|447.35943113035773| 373.8358840608238|     64.0|     64.0| 591.7626593179469|    0.0|    0.0|\n| stddev|       0.0| 252.0860180039131|262.36217297106015|314.37927802031334|281.05059034685974|      0.0|      0.0|292.83767424963526|    0.0|    0.0|\n|    min|       2.0|              28.0|              18.0|              39.0|              10.0|     64.0|     64.0|              42.0|    0.0|    0.0|\n|    max|       2.0|             895.0|             888.0|            1020.0|             868.0|     64.0|     64.0|            1022.0|    0.0|    0.0|\n+-------+----------+------------------+------------------+------------------+------------------+---------+---------+------------------+-------+-------+\n\n"
          ]
        }
      ],
      "execution_count": 141,
      "metadata": {
        "jupyter": {
          "source_hidden": false,
          "outputs_hidden": false
        },
        "nteract": {
          "transient": {
            "deleting": false
          }
        }
      }
    },
    {
      "cell_type": "code",
      "source": [
        "# Compute the correlation matrix for selected columns\r\n",
        "numerical_columns = ['dl_aggr_tbs', 'ul_aggr_tbs', 'dl_aggr_bytes_sdus', 'ul_aggr_bytes_sdus']\r\n",
        "df_corr = df_numeric.select(*numerical_columns)\r\n",
        "\r\n",
        "# Compute correlation matrix using the Pandas API\r\n",
        "df_pandas = df_corr.toPandas()\r\n",
        "correlation_matrix = df_pandas.corr()\r\n",
        "\r\n",
        "# Visualize the correlation heatmap\r\n",
        "import seaborn as sns\r\n",
        "import matplotlib.pyplot as plt\r\n",
        "\r\n",
        "plt.figure(figsize=(10, 8))\r\n",
        "sns.heatmap(correlation_matrix, annot=True, cmap=\"coolwarm\", fmt=\".2f\", vmin=-1, vmax=1)\r\n",
        "plt.title(\"Correlation Heatmap\")\r\n",
        "plt.show()\r\n"
      ],
      "outputs": [
        {
          "output_type": "display_data",
          "data": {
            "application/vnd.livy.statement-meta+json": {
              "spark_pool": "sparkfv41bzh",
              "statement_id": 138,
              "statement_ids": [
                138
              ],
              "state": "finished",
              "livy_statement_state": "available",
              "spark_jobs": null,
              "session_id": "1",
              "normalized_state": "finished",
              "queued_time": "2025-02-01T21:32:01.4519687Z",
              "session_start_time": null,
              "execution_start_time": "2025-02-01T21:32:02.1394867Z",
              "execution_finish_time": "2025-02-01T21:32:02.7322093Z",
              "parent_msg_id": "a43ee263-5ff6-4da2-8f07-f73f9ce7162a"
            },
            "text/plain": "StatementMeta(sparkfv41bzh, 1, 138, Finished, Available, Finished)"
          },
          "metadata": {}
        },
        {
          "output_type": "display_data",
          "data": {
            "text/plain": "<Figure size 1000x800 with 2 Axes>",
            "image/png": "[encoded data removed]"
          },
          "metadata": {}
        }
      ],
      "execution_count": 142,
      "metadata": {
        "jupyter": {
          "source_hidden": false,
          "outputs_hidden": false
        },
        "nteract": {
          "transient": {
            "deleting": false
          }
        }
      }
    },
    {
      "cell_type": "code",
      "source": [
        "# Calculate average transport block size per node (average downlink and uplink transport block sizes)\r\n",
        "df_avg_tbs = df_numeric.groupBy(\"ngran_node\").avg(\"dl_aggr_tbs\", \"ul_aggr_tbs\")\r\n",
        "df_avg_tbs.show()\r\n"
      ],
      "outputs": [
        {
          "output_type": "display_data",
          "data": {
            "application/vnd.livy.statement-meta+json": {
              "spark_pool": "sparkfv41bzh",
              "statement_id": 139,
              "statement_ids": [
                139
              ],
              "state": "finished",
              "livy_statement_state": "available",
              "spark_jobs": null,
              "session_id": "1",
              "normalized_state": "finished",
              "queued_time": "2025-02-01T21:32:01.8081602Z",
              "session_start_time": null,
              "execution_start_time": "2025-02-01T21:32:02.8669965Z",
              "execution_finish_time": "2025-02-01T21:32:03.9265696Z",
              "parent_msg_id": "97dac043-c60d-4029-bda7-13fc0ac4fa1d"
            },
            "text/plain": "StatementMeta(sparkfv41bzh, 1, 139, Finished, Available, Finished)"
          },
          "metadata": {}
        },
        {
          "output_type": "stream",
          "name": "stdout",
          "text": [
            "+----------+------------------+-----------------+\n|ngran_node|  avg(dl_aggr_tbs)| avg(ul_aggr_tbs)|\n+----------+------------------+-----------------+\n|       2.0|393.62098321932973|488.4878696914522|\n+----------+------------------+-----------------+\n\n"
          ]
        }
      ],
      "execution_count": 143,
      "metadata": {
        "jupyter": {
          "source_hidden": false,
          "outputs_hidden": false
        },
        "nteract": {
          "transient": {
            "deleting": false
          }
        }
      }
    },
    {
      "cell_type": "code",
      "source": [
        "# Aggregate bytes per node for downlink and uplink (TRAFFIC VOLUME ANALYSIS)\r\n",
        "df_traffic_volume = df_numeric.groupBy(\"ngran_node\").agg(\r\n",
        "    {\"dl_aggr_bytes_sdus\": \"sum\", \"ul_aggr_bytes_sdus\": \"sum\"}\r\n",
        ")\r\n",
        "\r\n",
        "df_traffic_volume.show()\r\n"
      ],
      "outputs": [
        {
          "output_type": "display_data",
          "data": {
            "application/vnd.livy.statement-meta+json": {
              "spark_pool": "sparkfv41bzh",
              "statement_id": 140,
              "statement_ids": [
                140
              ],
              "state": "finished",
              "livy_statement_state": "available",
              "spark_jobs": null,
              "session_id": "1",
              "normalized_state": "finished",
              "queued_time": "2025-02-01T21:32:38.6207547Z",
              "session_start_time": null,
              "execution_start_time": "2025-02-01T21:32:38.7381937Z",
              "execution_finish_time": "2025-02-01T21:32:39.2519313Z",
              "parent_msg_id": "d813ab24-ae8d-4104-af12-18b90e6972b7"
            },
            "text/plain": "StatementMeta(sparkfv41bzh, 1, 140, Finished, Available, Finished)"
          },
          "metadata": {}
        },
        {
          "output_type": "stream",
          "name": "stdout",
          "text": [
            "+----------+-----------------------+-----------------------+\n|ngran_node|sum(ul_aggr_bytes_sdus)|sum(dl_aggr_bytes_sdus)|\n+----------+-----------------------+-----------------------+\n|       2.0|              7596719.0|              9090791.0|\n+----------+-----------------------+-----------------------+\n\n"
          ]
        }
      ],
      "execution_count": 144,
      "metadata": {
        "jupyter": {
          "source_hidden": false,
          "outputs_hidden": false
        },
        "nteract": {
          "transient": {
            "deleting": false
          }
        }
      }
    },
    {
      "cell_type": "code",
      "source": [
        "# Distribution of PUSCH and PUCCH SNR\r\n",
        "df_snr_dist = df_numeric.select(\"pusch_snr\", \"pucch_snr\")\r\n",
        "\r\n",
        "df_snr_dist.describe().show()\r\n"
      ],
      "outputs": [
        {
          "output_type": "display_data",
          "data": {
            "application/vnd.livy.statement-meta+json": {
              "spark_pool": "sparkfv41bzh",
              "statement_id": 141,
              "statement_ids": [
                141
              ],
              "state": "finished",
              "livy_statement_state": "available",
              "spark_jobs": null,
              "session_id": "1",
              "normalized_state": "finished",
              "queued_time": "2025-02-01T21:33:50.648876Z",
              "session_start_time": null,
              "execution_start_time": "2025-02-01T21:33:50.7629278Z",
              "execution_finish_time": "2025-02-01T21:33:51.2769213Z",
              "parent_msg_id": "f5d700ef-432f-4b38-85f8-7c24c7fabe6b"
            },
            "text/plain": "StatementMeta(sparkfv41bzh, 1, 141, Finished, Available, Finished)"
          },
          "metadata": {}
        },
        {
          "output_type": "stream",
          "name": "stdout",
          "text": [
            "+-------+---------+---------+\n|summary|pusch_snr|pucch_snr|\n+-------+---------+---------+\n|  count|    20321|    20321|\n|   mean|     64.0|     64.0|\n| stddev|      0.0|      0.0|\n|    min|     64.0|     64.0|\n|    max|     64.0|     64.0|\n+-------+---------+---------+\n\n"
          ]
        }
      ],
      "execution_count": 145,
      "metadata": {
        "jupyter": {
          "source_hidden": false,
          "outputs_hidden": false
        },
        "nteract": {
          "transient": {
            "deleting": false
          }
        }
      }
    },
    {
      "cell_type": "code",
      "source": [
        "\r\n",
        "\r\n"
      ],
      "outputs": [
        {
          "output_type": "display_data",
          "data": {
            "application/vnd.livy.statement-meta+json": {
              "spark_pool": "sparkfv41bzh",
              "statement_id": -1,
              "statement_ids": [],
              "state": "finished",
              "livy_statement_state": "available",
              "spark_jobs": null,
              "session_id": "1",
              "normalized_state": "finished",
              "queued_time": "2025-02-01T21:36:13.5672577Z",
              "session_start_time": null,
              "execution_start_time": "2025-02-01T21:36:13.6956416Z",
              "execution_finish_time": "2025-02-01T21:36:13.695927Z",
              "parent_msg_id": "166826a0-298f-4eba-abd9-030c13bf156d"
            },
            "text/plain": "StatementMeta(sparkfv41bzh, 1, -1, Finished, Available, Finished)"
          },
          "metadata": {}
        }
      ],
      "execution_count": 150,
      "metadata": {
        "jupyter": {
          "source_hidden": false,
          "outputs_hidden": false
        },
        "nteract": {
          "transient": {
            "deleting": false
          }
        }
      }
    },
    {
      "cell_type": "code",
      "source": [],
      "outputs": [],
      "execution_count": null,
      "metadata": {
        "jupyter": {
          "source_hidden": false,
          "outputs_hidden": false
        },
        "nteract": {
          "transient": {
            "deleting": false
          }
        }
      }
    }
  ],
  "metadata": {
    "language_info": {
      "name": "python"
    },
    "kernelspec": {
      "name": "synapse_pyspark",
      "language": "Python",
      "display_name": "Synapse PySpark"
    },
    "kernel_info": {
      "name": "synapse_pyspark"
    },
    "save_output": true,
    "synapse_widget": {
      "version": "0.1",
      "state": {
        "de43a64e-8291-4102-b752-a9aecad11b57": {
          "type": "Synapse.DataFrame",
          "sync_state": {
            "table": {
              "rows": [
                {
                  "0": "1738422076381365",
                  "1": "2",
                  "2": "505",
                  "3": "1",
                  "4": "2",
                  "5": "1",
                  "6": "(null)",
                  "7": "0",
                  "8": "0",
                  "9": "452",
                  "10": "18",
                  "11": "731",
                  "12": "680",
                  "13": "0",
                  "14": "0",
                  "15": "0",
                  "16": "0",
                  "17": "64.0",
                  "18": "64.0",
                  "19": "872",
                  "20": "642",
                  "21": "158",
                  "22": "554",
                  "23": "159",
                  "24": "586",
                  "25": "52",
                  "26": "86",
                  "27": "49",
                  "28": "230",
                  "29": "131",
                  "30": "158",
                  "31": "-70",
                  "32": "407",
                  "33": "0.0",
                  "34": "0.0",
                  "35": "4",
                  "36": "463",
                  "37": "313",
                  "38": "685",
                  "39": "626",
                  "40": "0",
                  "41": "4",
                  "42": "154",
                  "43": "890",
                  "44": "139",
                  "45": "136",
                  "46": "0"
                },
                {
                  "0": "1738422076382981",
                  "1": "2",
                  "2": "505",
                  "3": "1",
                  "4": "2",
                  "5": "1",
                  "6": "(null)",
                  "7": "0",
                  "8": "0",
                  "9": "452",
                  "10": "18",
                  "11": "731",
                  "12": "680",
                  "13": "0",
                  "14": "0",
                  "15": "0",
                  "16": "0",
                  "17": "64.0",
                  "18": "64.0",
                  "19": "872",
                  "20": "642",
                  "21": "158",
                  "22": "554",
                  "23": "159",
                  "24": "586",
                  "25": "52",
                  "26": "86",
                  "27": "49",
                  "28": "230",
                  "29": "131",
                  "30": "158",
                  "31": "-70",
                  "32": "407",
                  "33": "0.0",
                  "34": "0.0",
                  "35": "4",
                  "36": "463",
                  "37": "313",
                  "38": "685",
                  "39": "626",
                  "40": "0",
                  "41": "4",
                  "42": "154",
                  "43": "890",
                  "44": "139",
                  "45": "136",
                  "46": "0"
                },
                {
                  "0": "1738422076384996",
                  "1": "2",
                  "2": "505",
                  "3": "1",
                  "4": "2",
                  "5": "1",
                  "6": "(null)",
                  "7": "0",
                  "8": "0",
                  "9": "452",
                  "10": "18",
                  "11": "731",
                  "12": "680",
                  "13": "0",
                  "14": "0",
                  "15": "0",
                  "16": "0",
                  "17": "64.0",
                  "18": "64.0",
                  "19": "872",
                  "20": "642",
                  "21": "158",
                  "22": "554",
                  "23": "159",
                  "24": "586",
                  "25": "52",
                  "26": "86",
                  "27": "49",
                  "28": "230",
                  "29": "131",
                  "30": "158",
                  "31": "-70",
                  "32": "407",
                  "33": "0.0",
                  "34": "0.0",
                  "35": "4",
                  "36": "463",
                  "37": "313",
                  "38": "685",
                  "39": "626",
                  "40": "0",
                  "41": "4",
                  "42": "154",
                  "43": "890",
                  "44": "139",
                  "45": "136",
                  "46": "0"
                },
                {
                  "0": "1738422076387430",
                  "1": "2",
                  "2": "505",
                  "3": "1",
                  "4": "2",
                  "5": "1",
                  "6": "(null)",
                  "7": "0",
                  "8": "0",
                  "9": "452",
                  "10": "18",
                  "11": "731",
                  "12": "680",
                  "13": "0",
                  "14": "0",
                  "15": "0",
                  "16": "0",
                  "17": "64.0",
                  "18": "64.0",
                  "19": "872",
                  "20": "642",
                  "21": "158",
                  "22": "554",
                  "23": "159",
                  "24": "586",
                  "25": "52",
                  "26": "86",
                  "27": "49",
                  "28": "230",
                  "29": "131",
                  "30": "158",
                  "31": "-70",
                  "32": "407",
                  "33": "0.0",
                  "34": "0.0",
                  "35": "4",
                  "36": "463",
                  "37": "313",
                  "38": "685",
                  "39": "626",
                  "40": "0",
                  "41": "4",
                  "42": "154",
                  "43": "890",
                  "44": "139",
                  "45": "136",
                  "46": "0"
                },
                {
                  "0": "1738422076387947",
                  "1": "2",
                  "2": "505",
                  "3": "1",
                  "4": "2",
                  "5": "1",
                  "6": "(null)",
                  "7": "0",
                  "8": "0",
                  "9": "452",
                  "10": "18",
                  "11": "731",
                  "12": "680",
                  "13": "0",
                  "14": "0",
                  "15": "0",
                  "16": "0",
                  "17": "64.0",
                  "18": "64.0",
                  "19": "872",
                  "20": "642",
                  "21": "158",
                  "22": "554",
                  "23": "159",
                  "24": "586",
                  "25": "52",
                  "26": "86",
                  "27": "49",
                  "28": "230",
                  "29": "131",
                  "30": "158",
                  "31": "-70",
                  "32": "407",
                  "33": "0.0",
                  "34": "0.0",
                  "35": "4",
                  "36": "463",
                  "37": "313",
                  "38": "685",
                  "39": "626",
                  "40": "0",
                  "41": "4",
                  "42": "154",
                  "43": "890",
                  "44": "139",
                  "45": "136",
                  "46": "0"
                },
                {
                  "0": "1738422076389887",
                  "1": "2",
                  "2": "505",
                  "3": "1",
                  "4": "2",
                  "5": "1",
                  "6": "(null)",
                  "7": "0",
                  "8": "0",
                  "9": "452",
                  "10": "18",
                  "11": "731",
                  "12": "680",
                  "13": "0",
                  "14": "0",
                  "15": "0",
                  "16": "0",
                  "17": "64.0",
                  "18": "64.0",
                  "19": "872",
                  "20": "642",
                  "21": "158",
                  "22": "554",
                  "23": "159",
                  "24": "586",
                  "25": "52",
                  "26": "86",
                  "27": "49",
                  "28": "230",
                  "29": "131",
                  "30": "158",
                  "31": "-70",
                  "32": "407",
                  "33": "0.0",
                  "34": "0.0",
                  "35": "4",
                  "36": "463",
                  "37": "313",
                  "38": "685",
                  "39": "626",
                  "40": "0",
                  "41": "4",
                  "42": "154",
                  "43": "890",
                  "44": "139",
                  "45": "136",
                  "46": "0"
                },
                {
                  "0": "1738422076389239",
                  "1": "2",
                  "2": "505",
                  "3": "1",
                  "4": "2",
                  "5": "1",
                  "6": "(null)",
                  "7": "0",
                  "8": "0",
                  "9": "452",
                  "10": "18",
                  "11": "731",
                  "12": "680",
                  "13": "0",
                  "14": "0",
                  "15": "0",
                  "16": "0",
                  "17": "64.0",
                  "18": "64.0",
                  "19": "872",
                  "20": "642",
                  "21": "158",
                  "22": "554",
                  "23": "159",
                  "24": "586",
                  "25": "52",
                  "26": "86",
                  "27": "49",
                  "28": "230",
                  "29": "131",
                  "30": "158",
                  "31": "-70",
                  "32": "407",
                  "33": "0.0",
                  "34": "0.0",
                  "35": "4",
                  "36": "463",
                  "37": "313",
                  "38": "685",
                  "39": "626",
                  "40": "0",
                  "41": "4",
                  "42": "154",
                  "43": "890",
                  "44": "139",
                  "45": "136",
                  "46": "0"
                },
                {
                  "0": "1738422076392270",
                  "1": "2",
                  "2": "505",
                  "3": "1",
                  "4": "2",
                  "5": "1",
                  "6": "(null)",
                  "7": "0",
                  "8": "0",
                  "9": "452",
                  "10": "18",
                  "11": "731",
                  "12": "680",
                  "13": "0",
                  "14": "0",
                  "15": "0",
                  "16": "0",
                  "17": "64.0",
                  "18": "64.0",
                  "19": "872",
                  "20": "642",
                  "21": "158",
                  "22": "554",
                  "23": "159",
                  "24": "586",
                  "25": "52",
                  "26": "86",
                  "27": "49",
                  "28": "230",
                  "29": "131",
                  "30": "158",
                  "31": "-70",
                  "32": "407",
                  "33": "0.0",
                  "34": "0.0",
                  "35": "4",
                  "36": "463",
                  "37": "313",
                  "38": "685",
                  "39": "626",
                  "40": "0",
                  "41": "4",
                  "42": "154",
                  "43": "890",
                  "44": "139",
                  "45": "136",
                  "46": "0"
                },
                {
                  "0": "1738422076393087",
                  "1": "2",
                  "2": "505",
                  "3": "1",
                  "4": "2",
                  "5": "1",
                  "6": "(null)",
                  "7": "0",
                  "8": "0",
                  "9": "452",
                  "10": "18",
                  "11": "731",
                  "12": "680",
                  "13": "0",
                  "14": "0",
                  "15": "0",
                  "16": "0",
                  "17": "64.0",
                  "18": "64.0",
                  "19": "872",
                  "20": "642",
                  "21": "158",
                  "22": "554",
                  "23": "159",
                  "24": "586",
                  "25": "52",
                  "26": "86",
                  "27": "49",
                  "28": "230",
                  "29": "131",
                  "30": "158",
                  "31": "-70",
                  "32": "407",
                  "33": "0.0",
                  "34": "0.0",
                  "35": "4",
                  "36": "463",
                  "37": "313",
                  "38": "685",
                  "39": "626",
                  "40": "0",
                  "41": "4",
                  "42": "154",
                  "43": "890",
                  "44": "139",
                  "45": "136",
                  "46": "0"
                },
                {
                  "0": "1738422076395802",
                  "1": "2",
                  "2": "505",
                  "3": "1",
                  "4": "2",
                  "5": "1",
                  "6": "(null)",
                  "7": "0",
                  "8": "0",
                  "9": "452",
                  "10": "18",
                  "11": "731",
                  "12": "680",
                  "13": "0",
                  "14": "0",
                  "15": "0",
                  "16": "0",
                  "17": "64.0",
                  "18": "64.0",
                  "19": "872",
                  "20": "642",
                  "21": "158",
                  "22": "554",
                  "23": "159",
                  "24": "586",
                  "25": "52",
                  "26": "86",
                  "27": "49",
                  "28": "230",
                  "29": "131",
                  "30": "158",
                  "31": "-70",
                  "32": "407",
                  "33": "0.0",
                  "34": "0.0",
                  "35": "4",
                  "36": "463",
                  "37": "313",
                  "38": "685",
                  "39": "626",
                  "40": "0",
                  "41": "4",
                  "42": "154",
                  "43": "890",
                  "44": "139",
                  "45": "136",
                  "46": "0"
                }
              ],
              "schema": [
                {
                  "key": "0",
                  "name": "tstamp",
                  "type": "string"
                },
                {
                  "key": "1",
                  "name": "ngran_node",
                  "type": "string"
                },
                {
                  "key": "2",
                  "name": "mcc",
                  "type": "string"
                },
                {
                  "key": "3",
                  "name": "mnc",
                  "type": "string"
                },
                {
                  "key": "4",
                  "name": "mnc_digit_len",
                  "type": "string"
                },
                {
                  "key": "5",
                  "name": "nb_id",
                  "type": "string"
                },
                {
                  "key": "6",
                  "name": "cu_du_id",
                  "type": "string"
                },
                {
                  "key": "7",
                  "name": "frame",
                  "type": "string"
                },
                {
                  "key": "8",
                  "name": "slot",
                  "type": "string"
                },
                {
                  "key": "9",
                  "name": "dl_aggr_tbs",
                  "type": "string"
                },
                {
                  "key": "10",
                  "name": "ul_aggr_tbs",
                  "type": "string"
                },
                {
                  "key": "11",
                  "name": "dl_aggr_bytes_sdus",
                  "type": "string"
                },
                {
                  "key": "12",
                  "name": "ul_aggr_bytes_sdus",
                  "type": "string"
                },
                {
                  "key": "13",
                  "name": "dl_curr_tbs",
                  "type": "string"
                },
                {
                  "key": "14",
                  "name": "ul_curr_tbs",
                  "type": "string"
                },
                {
                  "key": "15",
                  "name": "dl_sched_rb",
                  "type": "string"
                },
                {
                  "key": "16",
                  "name": "ul_sched_rb",
                  "type": "string"
                },
                {
                  "key": "17",
                  "name": "pusch_snr",
                  "type": "string"
                },
                {
                  "key": "18",
                  "name": "pucch_snr",
                  "type": "string"
                },
                {
                  "key": "19",
                  "name": "rnti",
                  "type": "string"
                },
                {
                  "key": "20",
                  "name": "dl_aggr_prb",
                  "type": "string"
                },
                {
                  "key": "21",
                  "name": "ul_aggr_prb",
                  "type": "string"
                },
                {
                  "key": "22",
                  "name": "dl_aggr_sdus",
                  "type": "string"
                },
                {
                  "key": "23",
                  "name": "ul_aggr_sdus",
                  "type": "string"
                },
                {
                  "key": "24",
                  "name": "dl_aggr_retx_prb",
                  "type": "string"
                },
                {
                  "key": "25",
                  "name": "ul_aggr_retx_prb",
                  "type": "string"
                },
                {
                  "key": "26",
                  "name": "wb_cqi",
                  "type": "string"
                },
                {
                  "key": "27",
                  "name": "dl_mcs1",
                  "type": "string"
                },
                {
                  "key": "28",
                  "name": "ul_mcs1",
                  "type": "string"
                },
                {
                  "key": "29",
                  "name": "dl_mcs2",
                  "type": "string"
                },
                {
                  "key": "30",
                  "name": "ul_mcs2",
                  "type": "string"
                },
                {
                  "key": "31",
                  "name": "phr",
                  "type": "string"
                },
                {
                  "key": "32",
                  "name": "bsr",
                  "type": "string"
                },
                {
                  "key": "33",
                  "name": "dl_bler",
                  "type": "string"
                },
                {
                  "key": "34",
                  "name": "ul_bler",
                  "type": "string"
                },
                {
                  "key": "35",
                  "name": "dl_num_harq",
                  "type": "string"
                },
                {
                  "key": "36",
                  "name": "dl_harq_round0",
                  "type": "string"
                },
                {
                  "key": "37",
                  "name": "dl_harq_round1",
                  "type": "string"
                },
                {
                  "key": "38",
                  "name": "dl_harq_round2",
                  "type": "string"
                },
                {
                  "key": "39",
                  "name": "dl_harq_round3",
                  "type": "string"
                },
                {
                  "key": "40",
                  "name": "dlsch_errors",
                  "type": "string"
                },
                {
                  "key": "41",
                  "name": "ul_num_harq",
                  "type": "string"
                },
                {
                  "key": "42",
                  "name": "ul_harq_round0",
                  "type": "string"
                },
                {
                  "key": "43",
                  "name": "ul_harq_round1",
                  "type": "string"
                },
                {
                  "key": "44",
                  "name": "ul_harq_round2",
                  "type": "string"
                },
                {
                  "key": "45",
                  "name": "ul_harq_round3",
                  "type": "string"
                },
                {
                  "key": "46",
                  "name": "ulsch_errors",
                  "type": "string"
                }
              ],
              "truncated": false
            },
            "isSummary": false,
            "language": "scala",
            "wranglerEntryContext": {
              "dataframeType": "pyspark"
            }
          },
          "persist_state": {
            "view": {
              "type": "details",
              "tableOptions": {},
              "chartOptions": {
                "chartType": "bar",
                "aggregationType": "count",
                "categoryFieldKeys": [
                  "0"
                ],
                "seriesFieldKeys": [
                  "0"
                ],
                "isStacked": false
              }
            }
          }
        }
      }
    }
  },
  "nbformat": 4,
  "nbformat_minor": 2
}